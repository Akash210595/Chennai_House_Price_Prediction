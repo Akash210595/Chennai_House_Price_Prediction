{
 "cells": [
  {
   "cell_type": "markdown",
   "id": "0e3fcc6c",
   "metadata": {},
   "source": [
    "# IMPORTING Needed Packages :"
   ]
  },
  {
   "cell_type": "code",
   "execution_count": 2,
   "id": "6394d346",
   "metadata": {},
   "outputs": [],
   "source": [
    "import seaborn as sns\n",
    "import pandas as pd\n",
    "import matplotlib.pyplot as plt\n",
    "from sklearn.model_selection import train_test_split\n",
    "from sklearn.model_selection import cross_val_score\n",
    "from sklearn.preprocessing import StandardScaler\n",
    "from sklearn.linear_model import LinearRegression\n",
    "from sklearn.linear_model import LinearRegression\n",
    "from sklearn.neighbors import KNeighborsRegressor\n",
    "from sklearn.tree import DecisionTreeRegressor\n",
    "from sklearn.ensemble import RandomForestRegressor\n",
    "import numpy as np\n",
    "from sklearn.metrics import r2_score"
   ]
  },
  {
   "cell_type": "markdown",
   "id": "e9bf9c54",
   "metadata": {},
   "source": [
    "# EXTRACTING DATA IN CSV FORMAT :"
   ]
  },
  {
   "cell_type": "code",
   "execution_count": 3,
   "id": "ed4118c2",
   "metadata": {},
   "outputs": [],
   "source": [
    "df=pd.read_csv('D:\\\\Data Science\\\\files for pratice\\\\train-chennai-sale.csv')"
   ]
  },
  {
   "cell_type": "markdown",
   "id": "d812b02f",
   "metadata": {},
   "source": [
    "# DATA CLEANSING & FILLING :"
   ]
  },
  {
   "cell_type": "code",
   "execution_count": 4,
   "id": "d912a19d",
   "metadata": {},
   "outputs": [],
   "source": [
    "df.drop(columns=['PRT_ID','QS_ROOMS','QS_BATHROOM','QS_BEDROOM','QS_OVERALL','REG_FEE','COMMIS'],inplace=True)"
   ]
  },
  {
   "cell_type": "code",
   "execution_count": 5,
   "id": "1a488cbc",
   "metadata": {
    "scrolled": true
   },
   "outputs": [
    {
     "data": {
      "text/html": [
       "<div>\n",
       "<style scoped>\n",
       "    .dataframe tbody tr th:only-of-type {\n",
       "        vertical-align: middle;\n",
       "    }\n",
       "\n",
       "    .dataframe tbody tr th {\n",
       "        vertical-align: top;\n",
       "    }\n",
       "\n",
       "    .dataframe thead th {\n",
       "        text-align: right;\n",
       "    }\n",
       "</style>\n",
       "<table border=\"1\" class=\"dataframe\">\n",
       "  <thead>\n",
       "    <tr style=\"text-align: right;\">\n",
       "      <th></th>\n",
       "      <th>AREA</th>\n",
       "      <th>INT_SQFT</th>\n",
       "      <th>DATE_SALE</th>\n",
       "      <th>DIST_MAINROAD</th>\n",
       "      <th>N_BEDROOM</th>\n",
       "      <th>N_BATHROOM</th>\n",
       "      <th>N_ROOM</th>\n",
       "      <th>SALE_COND</th>\n",
       "      <th>PARK_FACIL</th>\n",
       "      <th>DATE_BUILD</th>\n",
       "      <th>BUILDTYPE</th>\n",
       "      <th>UTILITY_AVAIL</th>\n",
       "      <th>STREET</th>\n",
       "      <th>MZZONE</th>\n",
       "      <th>SALES_PRICE</th>\n",
       "    </tr>\n",
       "  </thead>\n",
       "  <tbody>\n",
       "    <tr>\n",
       "      <th>0</th>\n",
       "      <td>Karapakkam</td>\n",
       "      <td>1004</td>\n",
       "      <td>04-05-2011</td>\n",
       "      <td>131</td>\n",
       "      <td>1.0</td>\n",
       "      <td>1.0</td>\n",
       "      <td>3</td>\n",
       "      <td>AbNormal</td>\n",
       "      <td>Yes</td>\n",
       "      <td>15-05-1967</td>\n",
       "      <td>Commercial</td>\n",
       "      <td>AllPub</td>\n",
       "      <td>Paved</td>\n",
       "      <td>A</td>\n",
       "      <td>7600000</td>\n",
       "    </tr>\n",
       "    <tr>\n",
       "      <th>1</th>\n",
       "      <td>Anna Nagar</td>\n",
       "      <td>1986</td>\n",
       "      <td>19-12-2006</td>\n",
       "      <td>26</td>\n",
       "      <td>2.0</td>\n",
       "      <td>1.0</td>\n",
       "      <td>5</td>\n",
       "      <td>AbNormal</td>\n",
       "      <td>No</td>\n",
       "      <td>22-12-1995</td>\n",
       "      <td>Commercial</td>\n",
       "      <td>AllPub</td>\n",
       "      <td>Gravel</td>\n",
       "      <td>RH</td>\n",
       "      <td>21717770</td>\n",
       "    </tr>\n",
       "    <tr>\n",
       "      <th>2</th>\n",
       "      <td>Adyar</td>\n",
       "      <td>909</td>\n",
       "      <td>04-02-2012</td>\n",
       "      <td>70</td>\n",
       "      <td>1.0</td>\n",
       "      <td>1.0</td>\n",
       "      <td>3</td>\n",
       "      <td>AbNormal</td>\n",
       "      <td>Yes</td>\n",
       "      <td>09-02-1992</td>\n",
       "      <td>Commercial</td>\n",
       "      <td>ELO</td>\n",
       "      <td>Gravel</td>\n",
       "      <td>RL</td>\n",
       "      <td>13159200</td>\n",
       "    </tr>\n",
       "    <tr>\n",
       "      <th>3</th>\n",
       "      <td>Velachery</td>\n",
       "      <td>1855</td>\n",
       "      <td>13-03-2010</td>\n",
       "      <td>14</td>\n",
       "      <td>3.0</td>\n",
       "      <td>2.0</td>\n",
       "      <td>5</td>\n",
       "      <td>Family</td>\n",
       "      <td>No</td>\n",
       "      <td>18-03-1988</td>\n",
       "      <td>Others</td>\n",
       "      <td>NoSewr</td>\n",
       "      <td>Paved</td>\n",
       "      <td>I</td>\n",
       "      <td>9630290</td>\n",
       "    </tr>\n",
       "    <tr>\n",
       "      <th>4</th>\n",
       "      <td>Karapakkam</td>\n",
       "      <td>1226</td>\n",
       "      <td>05-10-2009</td>\n",
       "      <td>84</td>\n",
       "      <td>1.0</td>\n",
       "      <td>1.0</td>\n",
       "      <td>3</td>\n",
       "      <td>AbNormal</td>\n",
       "      <td>Yes</td>\n",
       "      <td>13-10-1979</td>\n",
       "      <td>Others</td>\n",
       "      <td>AllPub</td>\n",
       "      <td>Gravel</td>\n",
       "      <td>C</td>\n",
       "      <td>7406250</td>\n",
       "    </tr>\n",
       "    <tr>\n",
       "      <th>...</th>\n",
       "      <td>...</td>\n",
       "      <td>...</td>\n",
       "      <td>...</td>\n",
       "      <td>...</td>\n",
       "      <td>...</td>\n",
       "      <td>...</td>\n",
       "      <td>...</td>\n",
       "      <td>...</td>\n",
       "      <td>...</td>\n",
       "      <td>...</td>\n",
       "      <td>...</td>\n",
       "      <td>...</td>\n",
       "      <td>...</td>\n",
       "      <td>...</td>\n",
       "      <td>...</td>\n",
       "    </tr>\n",
       "    <tr>\n",
       "      <th>7104</th>\n",
       "      <td>Karapakkam</td>\n",
       "      <td>598</td>\n",
       "      <td>03-01-2011</td>\n",
       "      <td>51</td>\n",
       "      <td>1.0</td>\n",
       "      <td>1.0</td>\n",
       "      <td>2</td>\n",
       "      <td>AdjLand</td>\n",
       "      <td>No</td>\n",
       "      <td>15-01-1962</td>\n",
       "      <td>Others</td>\n",
       "      <td>ELO</td>\n",
       "      <td>No Access</td>\n",
       "      <td>RM</td>\n",
       "      <td>5353000</td>\n",
       "    </tr>\n",
       "    <tr>\n",
       "      <th>7105</th>\n",
       "      <td>Velachery</td>\n",
       "      <td>1897</td>\n",
       "      <td>08-04-2004</td>\n",
       "      <td>52</td>\n",
       "      <td>3.0</td>\n",
       "      <td>2.0</td>\n",
       "      <td>5</td>\n",
       "      <td>Family</td>\n",
       "      <td>Yes</td>\n",
       "      <td>11-04-1995</td>\n",
       "      <td>Others</td>\n",
       "      <td>NoSeWa</td>\n",
       "      <td>No Access</td>\n",
       "      <td>RH</td>\n",
       "      <td>10818480</td>\n",
       "    </tr>\n",
       "    <tr>\n",
       "      <th>7106</th>\n",
       "      <td>Velachery</td>\n",
       "      <td>1614</td>\n",
       "      <td>25-08-2006</td>\n",
       "      <td>152</td>\n",
       "      <td>2.0</td>\n",
       "      <td>1.0</td>\n",
       "      <td>4</td>\n",
       "      <td>Normal Sale</td>\n",
       "      <td>No</td>\n",
       "      <td>01-09-1978</td>\n",
       "      <td>House</td>\n",
       "      <td>NoSeWa</td>\n",
       "      <td>Gravel</td>\n",
       "      <td>I</td>\n",
       "      <td>8351410</td>\n",
       "    </tr>\n",
       "    <tr>\n",
       "      <th>7107</th>\n",
       "      <td>Karapakkam</td>\n",
       "      <td>787</td>\n",
       "      <td>03-08-2009</td>\n",
       "      <td>40</td>\n",
       "      <td>1.0</td>\n",
       "      <td>1.0</td>\n",
       "      <td>2</td>\n",
       "      <td>Partial</td>\n",
       "      <td>Yes</td>\n",
       "      <td>11-08-1977</td>\n",
       "      <td>Commercial</td>\n",
       "      <td>ELO</td>\n",
       "      <td>Paved</td>\n",
       "      <td>RL</td>\n",
       "      <td>8507000</td>\n",
       "    </tr>\n",
       "    <tr>\n",
       "      <th>7108</th>\n",
       "      <td>Velachery</td>\n",
       "      <td>1896</td>\n",
       "      <td>13-07-2005</td>\n",
       "      <td>156</td>\n",
       "      <td>3.0</td>\n",
       "      <td>2.0</td>\n",
       "      <td>5</td>\n",
       "      <td>Partial</td>\n",
       "      <td>Yes</td>\n",
       "      <td>24-07-1961</td>\n",
       "      <td>Others</td>\n",
       "      <td>ELO</td>\n",
       "      <td>Paved</td>\n",
       "      <td>I</td>\n",
       "      <td>9976480</td>\n",
       "    </tr>\n",
       "  </tbody>\n",
       "</table>\n",
       "<p>7109 rows × 15 columns</p>\n",
       "</div>"
      ],
      "text/plain": [
       "            AREA  INT_SQFT   DATE_SALE  DIST_MAINROAD  N_BEDROOM  N_BATHROOM  \\\n",
       "0     Karapakkam      1004  04-05-2011            131        1.0         1.0   \n",
       "1     Anna Nagar      1986  19-12-2006             26        2.0         1.0   \n",
       "2          Adyar       909  04-02-2012             70        1.0         1.0   \n",
       "3      Velachery      1855  13-03-2010             14        3.0         2.0   \n",
       "4     Karapakkam      1226  05-10-2009             84        1.0         1.0   \n",
       "...          ...       ...         ...            ...        ...         ...   \n",
       "7104  Karapakkam       598  03-01-2011             51        1.0         1.0   \n",
       "7105   Velachery      1897  08-04-2004             52        3.0         2.0   \n",
       "7106   Velachery      1614  25-08-2006            152        2.0         1.0   \n",
       "7107  Karapakkam       787  03-08-2009             40        1.0         1.0   \n",
       "7108   Velachery      1896  13-07-2005            156        3.0         2.0   \n",
       "\n",
       "      N_ROOM    SALE_COND PARK_FACIL  DATE_BUILD   BUILDTYPE UTILITY_AVAIL  \\\n",
       "0          3     AbNormal        Yes  15-05-1967  Commercial        AllPub   \n",
       "1          5     AbNormal         No  22-12-1995  Commercial        AllPub   \n",
       "2          3     AbNormal        Yes  09-02-1992  Commercial           ELO   \n",
       "3          5       Family         No  18-03-1988      Others       NoSewr    \n",
       "4          3     AbNormal        Yes  13-10-1979      Others        AllPub   \n",
       "...      ...          ...        ...         ...         ...           ...   \n",
       "7104       2      AdjLand         No  15-01-1962      Others           ELO   \n",
       "7105       5       Family        Yes  11-04-1995      Others        NoSeWa   \n",
       "7106       4  Normal Sale         No  01-09-1978       House        NoSeWa   \n",
       "7107       2      Partial        Yes  11-08-1977  Commercial           ELO   \n",
       "7108       5      Partial        Yes  24-07-1961      Others           ELO   \n",
       "\n",
       "         STREET MZZONE  SALES_PRICE  \n",
       "0         Paved      A      7600000  \n",
       "1        Gravel     RH     21717770  \n",
       "2        Gravel     RL     13159200  \n",
       "3         Paved      I      9630290  \n",
       "4        Gravel      C      7406250  \n",
       "...         ...    ...          ...  \n",
       "7104  No Access     RM      5353000  \n",
       "7105  No Access     RH     10818480  \n",
       "7106     Gravel      I      8351410  \n",
       "7107      Paved     RL      8507000  \n",
       "7108      Paved      I      9976480  \n",
       "\n",
       "[7109 rows x 15 columns]"
      ]
     },
     "execution_count": 5,
     "metadata": {},
     "output_type": "execute_result"
    }
   ],
   "source": [
    "df"
   ]
  },
  {
   "cell_type": "code",
   "execution_count": 6,
   "id": "974390fb",
   "metadata": {},
   "outputs": [],
   "source": [
    "def col(caps):\n",
    "    cols=[i.lower() for i in caps.columns]\n",
    "    caps.columns=cols\n",
    "    return caps"
   ]
  },
  {
   "cell_type": "code",
   "execution_count": 7,
   "id": "b4a4b509",
   "metadata": {},
   "outputs": [],
   "source": [
    "df=col(df)"
   ]
  },
  {
   "cell_type": "code",
   "execution_count": 8,
   "id": "998c9d19",
   "metadata": {},
   "outputs": [
    {
     "data": {
      "text/html": [
       "<div>\n",
       "<style scoped>\n",
       "    .dataframe tbody tr th:only-of-type {\n",
       "        vertical-align: middle;\n",
       "    }\n",
       "\n",
       "    .dataframe tbody tr th {\n",
       "        vertical-align: top;\n",
       "    }\n",
       "\n",
       "    .dataframe thead th {\n",
       "        text-align: right;\n",
       "    }\n",
       "</style>\n",
       "<table border=\"1\" class=\"dataframe\">\n",
       "  <thead>\n",
       "    <tr style=\"text-align: right;\">\n",
       "      <th></th>\n",
       "      <th>area</th>\n",
       "      <th>int_sqft</th>\n",
       "      <th>date_sale</th>\n",
       "      <th>dist_mainroad</th>\n",
       "      <th>n_bedroom</th>\n",
       "      <th>n_bathroom</th>\n",
       "      <th>n_room</th>\n",
       "      <th>sale_cond</th>\n",
       "      <th>park_facil</th>\n",
       "      <th>date_build</th>\n",
       "      <th>buildtype</th>\n",
       "      <th>utility_avail</th>\n",
       "      <th>street</th>\n",
       "      <th>mzzone</th>\n",
       "      <th>sales_price</th>\n",
       "    </tr>\n",
       "  </thead>\n",
       "  <tbody>\n",
       "    <tr>\n",
       "      <th>0</th>\n",
       "      <td>Karapakkam</td>\n",
       "      <td>1004</td>\n",
       "      <td>04-05-2011</td>\n",
       "      <td>131</td>\n",
       "      <td>1.0</td>\n",
       "      <td>1.0</td>\n",
       "      <td>3</td>\n",
       "      <td>AbNormal</td>\n",
       "      <td>Yes</td>\n",
       "      <td>15-05-1967</td>\n",
       "      <td>Commercial</td>\n",
       "      <td>AllPub</td>\n",
       "      <td>Paved</td>\n",
       "      <td>A</td>\n",
       "      <td>7600000</td>\n",
       "    </tr>\n",
       "    <tr>\n",
       "      <th>1</th>\n",
       "      <td>Anna Nagar</td>\n",
       "      <td>1986</td>\n",
       "      <td>19-12-2006</td>\n",
       "      <td>26</td>\n",
       "      <td>2.0</td>\n",
       "      <td>1.0</td>\n",
       "      <td>5</td>\n",
       "      <td>AbNormal</td>\n",
       "      <td>No</td>\n",
       "      <td>22-12-1995</td>\n",
       "      <td>Commercial</td>\n",
       "      <td>AllPub</td>\n",
       "      <td>Gravel</td>\n",
       "      <td>RH</td>\n",
       "      <td>21717770</td>\n",
       "    </tr>\n",
       "    <tr>\n",
       "      <th>2</th>\n",
       "      <td>Adyar</td>\n",
       "      <td>909</td>\n",
       "      <td>04-02-2012</td>\n",
       "      <td>70</td>\n",
       "      <td>1.0</td>\n",
       "      <td>1.0</td>\n",
       "      <td>3</td>\n",
       "      <td>AbNormal</td>\n",
       "      <td>Yes</td>\n",
       "      <td>09-02-1992</td>\n",
       "      <td>Commercial</td>\n",
       "      <td>ELO</td>\n",
       "      <td>Gravel</td>\n",
       "      <td>RL</td>\n",
       "      <td>13159200</td>\n",
       "    </tr>\n",
       "    <tr>\n",
       "      <th>3</th>\n",
       "      <td>Velachery</td>\n",
       "      <td>1855</td>\n",
       "      <td>13-03-2010</td>\n",
       "      <td>14</td>\n",
       "      <td>3.0</td>\n",
       "      <td>2.0</td>\n",
       "      <td>5</td>\n",
       "      <td>Family</td>\n",
       "      <td>No</td>\n",
       "      <td>18-03-1988</td>\n",
       "      <td>Others</td>\n",
       "      <td>NoSewr</td>\n",
       "      <td>Paved</td>\n",
       "      <td>I</td>\n",
       "      <td>9630290</td>\n",
       "    </tr>\n",
       "    <tr>\n",
       "      <th>4</th>\n",
       "      <td>Karapakkam</td>\n",
       "      <td>1226</td>\n",
       "      <td>05-10-2009</td>\n",
       "      <td>84</td>\n",
       "      <td>1.0</td>\n",
       "      <td>1.0</td>\n",
       "      <td>3</td>\n",
       "      <td>AbNormal</td>\n",
       "      <td>Yes</td>\n",
       "      <td>13-10-1979</td>\n",
       "      <td>Others</td>\n",
       "      <td>AllPub</td>\n",
       "      <td>Gravel</td>\n",
       "      <td>C</td>\n",
       "      <td>7406250</td>\n",
       "    </tr>\n",
       "    <tr>\n",
       "      <th>...</th>\n",
       "      <td>...</td>\n",
       "      <td>...</td>\n",
       "      <td>...</td>\n",
       "      <td>...</td>\n",
       "      <td>...</td>\n",
       "      <td>...</td>\n",
       "      <td>...</td>\n",
       "      <td>...</td>\n",
       "      <td>...</td>\n",
       "      <td>...</td>\n",
       "      <td>...</td>\n",
       "      <td>...</td>\n",
       "      <td>...</td>\n",
       "      <td>...</td>\n",
       "      <td>...</td>\n",
       "    </tr>\n",
       "    <tr>\n",
       "      <th>7104</th>\n",
       "      <td>Karapakkam</td>\n",
       "      <td>598</td>\n",
       "      <td>03-01-2011</td>\n",
       "      <td>51</td>\n",
       "      <td>1.0</td>\n",
       "      <td>1.0</td>\n",
       "      <td>2</td>\n",
       "      <td>AdjLand</td>\n",
       "      <td>No</td>\n",
       "      <td>15-01-1962</td>\n",
       "      <td>Others</td>\n",
       "      <td>ELO</td>\n",
       "      <td>No Access</td>\n",
       "      <td>RM</td>\n",
       "      <td>5353000</td>\n",
       "    </tr>\n",
       "    <tr>\n",
       "      <th>7105</th>\n",
       "      <td>Velachery</td>\n",
       "      <td>1897</td>\n",
       "      <td>08-04-2004</td>\n",
       "      <td>52</td>\n",
       "      <td>3.0</td>\n",
       "      <td>2.0</td>\n",
       "      <td>5</td>\n",
       "      <td>Family</td>\n",
       "      <td>Yes</td>\n",
       "      <td>11-04-1995</td>\n",
       "      <td>Others</td>\n",
       "      <td>NoSeWa</td>\n",
       "      <td>No Access</td>\n",
       "      <td>RH</td>\n",
       "      <td>10818480</td>\n",
       "    </tr>\n",
       "    <tr>\n",
       "      <th>7106</th>\n",
       "      <td>Velachery</td>\n",
       "      <td>1614</td>\n",
       "      <td>25-08-2006</td>\n",
       "      <td>152</td>\n",
       "      <td>2.0</td>\n",
       "      <td>1.0</td>\n",
       "      <td>4</td>\n",
       "      <td>Normal Sale</td>\n",
       "      <td>No</td>\n",
       "      <td>01-09-1978</td>\n",
       "      <td>House</td>\n",
       "      <td>NoSeWa</td>\n",
       "      <td>Gravel</td>\n",
       "      <td>I</td>\n",
       "      <td>8351410</td>\n",
       "    </tr>\n",
       "    <tr>\n",
       "      <th>7107</th>\n",
       "      <td>Karapakkam</td>\n",
       "      <td>787</td>\n",
       "      <td>03-08-2009</td>\n",
       "      <td>40</td>\n",
       "      <td>1.0</td>\n",
       "      <td>1.0</td>\n",
       "      <td>2</td>\n",
       "      <td>Partial</td>\n",
       "      <td>Yes</td>\n",
       "      <td>11-08-1977</td>\n",
       "      <td>Commercial</td>\n",
       "      <td>ELO</td>\n",
       "      <td>Paved</td>\n",
       "      <td>RL</td>\n",
       "      <td>8507000</td>\n",
       "    </tr>\n",
       "    <tr>\n",
       "      <th>7108</th>\n",
       "      <td>Velachery</td>\n",
       "      <td>1896</td>\n",
       "      <td>13-07-2005</td>\n",
       "      <td>156</td>\n",
       "      <td>3.0</td>\n",
       "      <td>2.0</td>\n",
       "      <td>5</td>\n",
       "      <td>Partial</td>\n",
       "      <td>Yes</td>\n",
       "      <td>24-07-1961</td>\n",
       "      <td>Others</td>\n",
       "      <td>ELO</td>\n",
       "      <td>Paved</td>\n",
       "      <td>I</td>\n",
       "      <td>9976480</td>\n",
       "    </tr>\n",
       "  </tbody>\n",
       "</table>\n",
       "<p>7109 rows × 15 columns</p>\n",
       "</div>"
      ],
      "text/plain": [
       "            area  int_sqft   date_sale  dist_mainroad  n_bedroom  n_bathroom  \\\n",
       "0     Karapakkam      1004  04-05-2011            131        1.0         1.0   \n",
       "1     Anna Nagar      1986  19-12-2006             26        2.0         1.0   \n",
       "2          Adyar       909  04-02-2012             70        1.0         1.0   \n",
       "3      Velachery      1855  13-03-2010             14        3.0         2.0   \n",
       "4     Karapakkam      1226  05-10-2009             84        1.0         1.0   \n",
       "...          ...       ...         ...            ...        ...         ...   \n",
       "7104  Karapakkam       598  03-01-2011             51        1.0         1.0   \n",
       "7105   Velachery      1897  08-04-2004             52        3.0         2.0   \n",
       "7106   Velachery      1614  25-08-2006            152        2.0         1.0   \n",
       "7107  Karapakkam       787  03-08-2009             40        1.0         1.0   \n",
       "7108   Velachery      1896  13-07-2005            156        3.0         2.0   \n",
       "\n",
       "      n_room    sale_cond park_facil  date_build   buildtype utility_avail  \\\n",
       "0          3     AbNormal        Yes  15-05-1967  Commercial        AllPub   \n",
       "1          5     AbNormal         No  22-12-1995  Commercial        AllPub   \n",
       "2          3     AbNormal        Yes  09-02-1992  Commercial           ELO   \n",
       "3          5       Family         No  18-03-1988      Others       NoSewr    \n",
       "4          3     AbNormal        Yes  13-10-1979      Others        AllPub   \n",
       "...      ...          ...        ...         ...         ...           ...   \n",
       "7104       2      AdjLand         No  15-01-1962      Others           ELO   \n",
       "7105       5       Family        Yes  11-04-1995      Others        NoSeWa   \n",
       "7106       4  Normal Sale         No  01-09-1978       House        NoSeWa   \n",
       "7107       2      Partial        Yes  11-08-1977  Commercial           ELO   \n",
       "7108       5      Partial        Yes  24-07-1961      Others           ELO   \n",
       "\n",
       "         street mzzone  sales_price  \n",
       "0         Paved      A      7600000  \n",
       "1        Gravel     RH     21717770  \n",
       "2        Gravel     RL     13159200  \n",
       "3         Paved      I      9630290  \n",
       "4        Gravel      C      7406250  \n",
       "...         ...    ...          ...  \n",
       "7104  No Access     RM      5353000  \n",
       "7105  No Access     RH     10818480  \n",
       "7106     Gravel      I      8351410  \n",
       "7107      Paved     RL      8507000  \n",
       "7108      Paved      I      9976480  \n",
       "\n",
       "[7109 rows x 15 columns]"
      ]
     },
     "execution_count": 8,
     "metadata": {},
     "output_type": "execute_result"
    }
   ],
   "source": [
    "df"
   ]
  },
  {
   "cell_type": "code",
   "execution_count": 9,
   "id": "585fd1cd",
   "metadata": {
    "scrolled": true
   },
   "outputs": [
    {
     "data": {
      "text/plain": [
       "area             0\n",
       "int_sqft         0\n",
       "date_sale        0\n",
       "dist_mainroad    0\n",
       "n_bedroom        1\n",
       "n_bathroom       5\n",
       "n_room           0\n",
       "sale_cond        0\n",
       "park_facil       0\n",
       "date_build       0\n",
       "buildtype        0\n",
       "utility_avail    0\n",
       "street           0\n",
       "mzzone           0\n",
       "sales_price      0\n",
       "dtype: int64"
      ]
     },
     "execution_count": 9,
     "metadata": {},
     "output_type": "execute_result"
    }
   ],
   "source": [
    "df.isnull().sum()"
   ]
  },
  {
   "cell_type": "code",
   "execution_count": 10,
   "id": "788dbcfb",
   "metadata": {},
   "outputs": [],
   "source": [
    "df['n_bedroom'].fillna(df['n_bedroom'].mode()[0],inplace=True)\n",
    "df['n_bathroom'].fillna(df['n_bathroom'].mode()[0],inplace=True)"
   ]
  },
  {
   "cell_type": "code",
   "execution_count": 11,
   "id": "c1af8d20",
   "metadata": {},
   "outputs": [
    {
     "name": "stderr",
     "output_type": "stream",
     "text": [
      "C:\\Users\\Windows 11\\AppData\\Local\\Temp\\ipykernel_14468\\2919339520.py:1: UserWarning: Parsing dates in DD/MM/YYYY format when dayfirst=False (the default) was specified. This may lead to inconsistently parsed dates! Specify a format to ensure consistent parsing.\n",
      "  df['date_sale']=pd.to_datetime(df['date_sale'])\n",
      "C:\\Users\\Windows 11\\AppData\\Local\\Temp\\ipykernel_14468\\2919339520.py:2: UserWarning: Parsing dates in DD/MM/YYYY format when dayfirst=False (the default) was specified. This may lead to inconsistently parsed dates! Specify a format to ensure consistent parsing.\n",
      "  df['date_build']=pd.to_datetime(df['date_build'])\n"
     ]
    }
   ],
   "source": [
    "df['date_sale']=pd.to_datetime(df['date_sale'])\n",
    "df['date_build']=pd.to_datetime(df['date_build'])\n",
    "df['n_bedroom']=df['n_bedroom'].astype(int)\n",
    "df['n_bathroom']=df['n_bathroom'].astype(int)"
   ]
  },
  {
   "cell_type": "code",
   "execution_count": 12,
   "id": "b6619652",
   "metadata": {},
   "outputs": [],
   "source": [
    "df['age']=df['date_sale'].dt.year - df['date_build'].dt.year"
   ]
  },
  {
   "cell_type": "code",
   "execution_count": 13,
   "id": "7a6cc11e",
   "metadata": {},
   "outputs": [
    {
     "data": {
      "text/html": [
       "<div>\n",
       "<style scoped>\n",
       "    .dataframe tbody tr th:only-of-type {\n",
       "        vertical-align: middle;\n",
       "    }\n",
       "\n",
       "    .dataframe tbody tr th {\n",
       "        vertical-align: top;\n",
       "    }\n",
       "\n",
       "    .dataframe thead th {\n",
       "        text-align: right;\n",
       "    }\n",
       "</style>\n",
       "<table border=\"1\" class=\"dataframe\">\n",
       "  <thead>\n",
       "    <tr style=\"text-align: right;\">\n",
       "      <th></th>\n",
       "      <th>area</th>\n",
       "      <th>int_sqft</th>\n",
       "      <th>date_sale</th>\n",
       "      <th>dist_mainroad</th>\n",
       "      <th>n_bedroom</th>\n",
       "      <th>n_bathroom</th>\n",
       "      <th>n_room</th>\n",
       "      <th>sale_cond</th>\n",
       "      <th>park_facil</th>\n",
       "      <th>date_build</th>\n",
       "      <th>buildtype</th>\n",
       "      <th>utility_avail</th>\n",
       "      <th>street</th>\n",
       "      <th>mzzone</th>\n",
       "      <th>sales_price</th>\n",
       "      <th>age</th>\n",
       "    </tr>\n",
       "  </thead>\n",
       "  <tbody>\n",
       "    <tr>\n",
       "      <th>0</th>\n",
       "      <td>Karapakkam</td>\n",
       "      <td>1004</td>\n",
       "      <td>2011-04-05</td>\n",
       "      <td>131</td>\n",
       "      <td>1</td>\n",
       "      <td>1</td>\n",
       "      <td>3</td>\n",
       "      <td>AbNormal</td>\n",
       "      <td>Yes</td>\n",
       "      <td>1967-05-15</td>\n",
       "      <td>Commercial</td>\n",
       "      <td>AllPub</td>\n",
       "      <td>Paved</td>\n",
       "      <td>A</td>\n",
       "      <td>7600000</td>\n",
       "      <td>44</td>\n",
       "    </tr>\n",
       "    <tr>\n",
       "      <th>1</th>\n",
       "      <td>Anna Nagar</td>\n",
       "      <td>1986</td>\n",
       "      <td>2006-12-19</td>\n",
       "      <td>26</td>\n",
       "      <td>2</td>\n",
       "      <td>1</td>\n",
       "      <td>5</td>\n",
       "      <td>AbNormal</td>\n",
       "      <td>No</td>\n",
       "      <td>1995-12-22</td>\n",
       "      <td>Commercial</td>\n",
       "      <td>AllPub</td>\n",
       "      <td>Gravel</td>\n",
       "      <td>RH</td>\n",
       "      <td>21717770</td>\n",
       "      <td>11</td>\n",
       "    </tr>\n",
       "    <tr>\n",
       "      <th>2</th>\n",
       "      <td>Adyar</td>\n",
       "      <td>909</td>\n",
       "      <td>2012-04-02</td>\n",
       "      <td>70</td>\n",
       "      <td>1</td>\n",
       "      <td>1</td>\n",
       "      <td>3</td>\n",
       "      <td>AbNormal</td>\n",
       "      <td>Yes</td>\n",
       "      <td>1992-09-02</td>\n",
       "      <td>Commercial</td>\n",
       "      <td>ELO</td>\n",
       "      <td>Gravel</td>\n",
       "      <td>RL</td>\n",
       "      <td>13159200</td>\n",
       "      <td>20</td>\n",
       "    </tr>\n",
       "    <tr>\n",
       "      <th>3</th>\n",
       "      <td>Velachery</td>\n",
       "      <td>1855</td>\n",
       "      <td>2010-03-13</td>\n",
       "      <td>14</td>\n",
       "      <td>3</td>\n",
       "      <td>2</td>\n",
       "      <td>5</td>\n",
       "      <td>Family</td>\n",
       "      <td>No</td>\n",
       "      <td>1988-03-18</td>\n",
       "      <td>Others</td>\n",
       "      <td>NoSewr</td>\n",
       "      <td>Paved</td>\n",
       "      <td>I</td>\n",
       "      <td>9630290</td>\n",
       "      <td>22</td>\n",
       "    </tr>\n",
       "    <tr>\n",
       "      <th>4</th>\n",
       "      <td>Karapakkam</td>\n",
       "      <td>1226</td>\n",
       "      <td>2009-05-10</td>\n",
       "      <td>84</td>\n",
       "      <td>1</td>\n",
       "      <td>1</td>\n",
       "      <td>3</td>\n",
       "      <td>AbNormal</td>\n",
       "      <td>Yes</td>\n",
       "      <td>1979-10-13</td>\n",
       "      <td>Others</td>\n",
       "      <td>AllPub</td>\n",
       "      <td>Gravel</td>\n",
       "      <td>C</td>\n",
       "      <td>7406250</td>\n",
       "      <td>30</td>\n",
       "    </tr>\n",
       "    <tr>\n",
       "      <th>...</th>\n",
       "      <td>...</td>\n",
       "      <td>...</td>\n",
       "      <td>...</td>\n",
       "      <td>...</td>\n",
       "      <td>...</td>\n",
       "      <td>...</td>\n",
       "      <td>...</td>\n",
       "      <td>...</td>\n",
       "      <td>...</td>\n",
       "      <td>...</td>\n",
       "      <td>...</td>\n",
       "      <td>...</td>\n",
       "      <td>...</td>\n",
       "      <td>...</td>\n",
       "      <td>...</td>\n",
       "      <td>...</td>\n",
       "    </tr>\n",
       "    <tr>\n",
       "      <th>7104</th>\n",
       "      <td>Karapakkam</td>\n",
       "      <td>598</td>\n",
       "      <td>2011-03-01</td>\n",
       "      <td>51</td>\n",
       "      <td>1</td>\n",
       "      <td>1</td>\n",
       "      <td>2</td>\n",
       "      <td>AdjLand</td>\n",
       "      <td>No</td>\n",
       "      <td>1962-01-15</td>\n",
       "      <td>Others</td>\n",
       "      <td>ELO</td>\n",
       "      <td>No Access</td>\n",
       "      <td>RM</td>\n",
       "      <td>5353000</td>\n",
       "      <td>49</td>\n",
       "    </tr>\n",
       "    <tr>\n",
       "      <th>7105</th>\n",
       "      <td>Velachery</td>\n",
       "      <td>1897</td>\n",
       "      <td>2004-08-04</td>\n",
       "      <td>52</td>\n",
       "      <td>3</td>\n",
       "      <td>2</td>\n",
       "      <td>5</td>\n",
       "      <td>Family</td>\n",
       "      <td>Yes</td>\n",
       "      <td>1995-11-04</td>\n",
       "      <td>Others</td>\n",
       "      <td>NoSeWa</td>\n",
       "      <td>No Access</td>\n",
       "      <td>RH</td>\n",
       "      <td>10818480</td>\n",
       "      <td>9</td>\n",
       "    </tr>\n",
       "    <tr>\n",
       "      <th>7106</th>\n",
       "      <td>Velachery</td>\n",
       "      <td>1614</td>\n",
       "      <td>2006-08-25</td>\n",
       "      <td>152</td>\n",
       "      <td>2</td>\n",
       "      <td>1</td>\n",
       "      <td>4</td>\n",
       "      <td>Normal Sale</td>\n",
       "      <td>No</td>\n",
       "      <td>1978-01-09</td>\n",
       "      <td>House</td>\n",
       "      <td>NoSeWa</td>\n",
       "      <td>Gravel</td>\n",
       "      <td>I</td>\n",
       "      <td>8351410</td>\n",
       "      <td>28</td>\n",
       "    </tr>\n",
       "    <tr>\n",
       "      <th>7107</th>\n",
       "      <td>Karapakkam</td>\n",
       "      <td>787</td>\n",
       "      <td>2009-03-08</td>\n",
       "      <td>40</td>\n",
       "      <td>1</td>\n",
       "      <td>1</td>\n",
       "      <td>2</td>\n",
       "      <td>Partial</td>\n",
       "      <td>Yes</td>\n",
       "      <td>1977-11-08</td>\n",
       "      <td>Commercial</td>\n",
       "      <td>ELO</td>\n",
       "      <td>Paved</td>\n",
       "      <td>RL</td>\n",
       "      <td>8507000</td>\n",
       "      <td>32</td>\n",
       "    </tr>\n",
       "    <tr>\n",
       "      <th>7108</th>\n",
       "      <td>Velachery</td>\n",
       "      <td>1896</td>\n",
       "      <td>2005-07-13</td>\n",
       "      <td>156</td>\n",
       "      <td>3</td>\n",
       "      <td>2</td>\n",
       "      <td>5</td>\n",
       "      <td>Partial</td>\n",
       "      <td>Yes</td>\n",
       "      <td>1961-07-24</td>\n",
       "      <td>Others</td>\n",
       "      <td>ELO</td>\n",
       "      <td>Paved</td>\n",
       "      <td>I</td>\n",
       "      <td>9976480</td>\n",
       "      <td>44</td>\n",
       "    </tr>\n",
       "  </tbody>\n",
       "</table>\n",
       "<p>7109 rows × 16 columns</p>\n",
       "</div>"
      ],
      "text/plain": [
       "            area  int_sqft  date_sale  dist_mainroad  n_bedroom  n_bathroom  \\\n",
       "0     Karapakkam      1004 2011-04-05            131          1           1   \n",
       "1     Anna Nagar      1986 2006-12-19             26          2           1   \n",
       "2          Adyar       909 2012-04-02             70          1           1   \n",
       "3      Velachery      1855 2010-03-13             14          3           2   \n",
       "4     Karapakkam      1226 2009-05-10             84          1           1   \n",
       "...          ...       ...        ...            ...        ...         ...   \n",
       "7104  Karapakkam       598 2011-03-01             51          1           1   \n",
       "7105   Velachery      1897 2004-08-04             52          3           2   \n",
       "7106   Velachery      1614 2006-08-25            152          2           1   \n",
       "7107  Karapakkam       787 2009-03-08             40          1           1   \n",
       "7108   Velachery      1896 2005-07-13            156          3           2   \n",
       "\n",
       "      n_room    sale_cond park_facil date_build   buildtype utility_avail  \\\n",
       "0          3     AbNormal        Yes 1967-05-15  Commercial        AllPub   \n",
       "1          5     AbNormal         No 1995-12-22  Commercial        AllPub   \n",
       "2          3     AbNormal        Yes 1992-09-02  Commercial           ELO   \n",
       "3          5       Family         No 1988-03-18      Others       NoSewr    \n",
       "4          3     AbNormal        Yes 1979-10-13      Others        AllPub   \n",
       "...      ...          ...        ...        ...         ...           ...   \n",
       "7104       2      AdjLand         No 1962-01-15      Others           ELO   \n",
       "7105       5       Family        Yes 1995-11-04      Others        NoSeWa   \n",
       "7106       4  Normal Sale         No 1978-01-09       House        NoSeWa   \n",
       "7107       2      Partial        Yes 1977-11-08  Commercial           ELO   \n",
       "7108       5      Partial        Yes 1961-07-24      Others           ELO   \n",
       "\n",
       "         street mzzone  sales_price  age  \n",
       "0         Paved      A      7600000   44  \n",
       "1        Gravel     RH     21717770   11  \n",
       "2        Gravel     RL     13159200   20  \n",
       "3         Paved      I      9630290   22  \n",
       "4        Gravel      C      7406250   30  \n",
       "...         ...    ...          ...  ...  \n",
       "7104  No Access     RM      5353000   49  \n",
       "7105  No Access     RH     10818480    9  \n",
       "7106     Gravel      I      8351410   28  \n",
       "7107      Paved     RL      8507000   32  \n",
       "7108      Paved      I      9976480   44  \n",
       "\n",
       "[7109 rows x 16 columns]"
      ]
     },
     "execution_count": 13,
     "metadata": {},
     "output_type": "execute_result"
    }
   ],
   "source": [
    "df"
   ]
  },
  {
   "cell_type": "code",
   "execution_count": 14,
   "id": "b6e80fd2",
   "metadata": {},
   "outputs": [],
   "source": [
    "obj_cols=[i for i in df.columns if df[i].dtype == 'object']"
   ]
  },
  {
   "cell_type": "code",
   "execution_count": 15,
   "id": "a1e0a762",
   "metadata": {},
   "outputs": [
    {
     "data": {
      "text/plain": [
       "['area',\n",
       " 'sale_cond',\n",
       " 'park_facil',\n",
       " 'buildtype',\n",
       " 'utility_avail',\n",
       " 'street',\n",
       " 'mzzone']"
      ]
     },
     "execution_count": 15,
     "metadata": {},
     "output_type": "execute_result"
    }
   ],
   "source": [
    "obj_cols"
   ]
  },
  {
   "cell_type": "code",
   "execution_count": 16,
   "id": "040aac6b",
   "metadata": {
    "scrolled": true
   },
   "outputs": [
    {
     "name": "stdout",
     "output_type": "stream",
     "text": [
      "\"area\"is divided into \"17\"\n",
      "\"sale_cond\"is divided into \"9\"\n",
      "\"park_facil\"is divided into \"3\"\n",
      "\"buildtype\"is divided into \"5\"\n",
      "\"utility_avail\"is divided into \"5\"\n",
      "\"street\"is divided into \"5\"\n",
      "\"mzzone\"is divided into \"6\"\n"
     ]
    }
   ],
   "source": [
    "for i in obj_cols:\n",
    "    print(f'\"{i}\"is divided into \"{len(df[i].value_counts())}\"')"
   ]
  },
  {
   "cell_type": "code",
   "execution_count": 17,
   "id": "c4795256",
   "metadata": {},
   "outputs": [],
   "source": [
    "df['area'] = df['area'].replace({'Chrompt':'Chrompet','Chrmpet':'Chrompet','Chormpet':'Chrompet','TNagar':'T Nagar','Karapakam':'Karapakkam','Ana Nagar':'Anna Nagar','Ann Nagar':'Anna Nagar','Velchery':'Velachery','Adyr':'Adyar','KKNagar':'KK Nagar'})"
   ]
  },
  {
   "cell_type": "code",
   "execution_count": 18,
   "id": "fa4c6cfb",
   "metadata": {},
   "outputs": [],
   "source": [
    "df['sale_cond'] = df['sale_cond'].replace({'Adj Land':'AdjLand','Ab Normal':'AbNormal','Partiall':'Partial','PartiaLl':'Partial'})"
   ]
  },
  {
   "cell_type": "code",
   "execution_count": 19,
   "id": "b09eb34b",
   "metadata": {},
   "outputs": [],
   "source": [
    "df['park_facil'] = df['park_facil'].replace({'Noo':'No'})"
   ]
  },
  {
   "cell_type": "code",
   "execution_count": 20,
   "id": "6aa0320f",
   "metadata": {},
   "outputs": [],
   "source": [
    "df['buildtype'] = df['buildtype'].replace({'Comercial':'Commercial','Other':'Others'})"
   ]
  },
  {
   "cell_type": "code",
   "execution_count": 21,
   "id": "2bed7cb5",
   "metadata": {},
   "outputs": [],
   "source": [
    "df['utility_avail'] = df['utility_avail'].replace(['NoSewr ','NoSeWa','All Pub'],['No Sewer','No Sewer','AllPub'])"
   ]
  },
  {
   "cell_type": "code",
   "execution_count": 22,
   "id": "c2ad4355",
   "metadata": {},
   "outputs": [],
   "source": [
    "df['street'] = df['street'].replace({'Pavd':'Paved','NoAccess':'No Access'})"
   ]
  },
  {
   "cell_type": "markdown",
   "id": "a9663e3d",
   "metadata": {},
   "source": [
    "# EDA(Exploratory Data Analysis) -\n",
    "## VISUALIZATION :"
   ]
  },
  {
   "cell_type": "code",
   "execution_count": 23,
   "id": "e3c1688b",
   "metadata": {
    "scrolled": false
   },
   "outputs": [
    {
     "name": "stderr",
     "output_type": "stream",
     "text": [
      "C:\\Users\\Windows 11\\anaconda3\\lib\\site-packages\\seaborn\\_decorators.py:36: FutureWarning: Pass the following variable as a keyword arg: x. From version 0.12, the only valid positional argument will be `data`, and passing other arguments without an explicit keyword will result in an error or misinterpretation.\n",
      "  warnings.warn(\n",
      "C:\\Users\\Windows 11\\anaconda3\\lib\\site-packages\\seaborn\\_decorators.py:36: FutureWarning: Pass the following variable as a keyword arg: x. From version 0.12, the only valid positional argument will be `data`, and passing other arguments without an explicit keyword will result in an error or misinterpretation.\n",
      "  warnings.warn(\n",
      "C:\\Users\\Windows 11\\anaconda3\\lib\\site-packages\\seaborn\\_decorators.py:36: FutureWarning: Pass the following variable as a keyword arg: x. From version 0.12, the only valid positional argument will be `data`, and passing other arguments without an explicit keyword will result in an error or misinterpretation.\n",
      "  warnings.warn(\n",
      "C:\\Users\\Windows 11\\anaconda3\\lib\\site-packages\\seaborn\\_decorators.py:36: FutureWarning: Pass the following variable as a keyword arg: x. From version 0.12, the only valid positional argument will be `data`, and passing other arguments without an explicit keyword will result in an error or misinterpretation.\n",
      "  warnings.warn(\n",
      "C:\\Users\\Windows 11\\anaconda3\\lib\\site-packages\\seaborn\\_decorators.py:36: FutureWarning: Pass the following variable as a keyword arg: x. From version 0.12, the only valid positional argument will be `data`, and passing other arguments without an explicit keyword will result in an error or misinterpretation.\n",
      "  warnings.warn(\n",
      "C:\\Users\\Windows 11\\anaconda3\\lib\\site-packages\\seaborn\\_decorators.py:36: FutureWarning: Pass the following variable as a keyword arg: x. From version 0.12, the only valid positional argument will be `data`, and passing other arguments without an explicit keyword will result in an error or misinterpretation.\n",
      "  warnings.warn(\n",
      "C:\\Users\\Windows 11\\anaconda3\\lib\\site-packages\\seaborn\\_decorators.py:36: FutureWarning: Pass the following variable as a keyword arg: x. From version 0.12, the only valid positional argument will be `data`, and passing other arguments without an explicit keyword will result in an error or misinterpretation.\n",
      "  warnings.warn(\n"
     ]
    },
    {
     "data": {
      "image/png": "[encoded data removed]",
      "text/plain": [
       "<Figure size 2000x2500 with 7 Axes>"
      ]
     },
     "metadata": {},
     "output_type": "display_data"
    }
   ],
   "source": [
    "plt.figure(figsize=(20,25))\n",
    "plt.subplot(431)\n",
    "sns.countplot(df['area'],order=df['area'].value_counts().index[::-1])\n",
    "plt.xticks(rotation=15)\n",
    "plt.xlabel('Area')\n",
    "plt.ylabel('Count')\n",
    "plt.title('Sales of houses according to Area')\n",
    "\n",
    "plt.subplot(432)\n",
    "sns.countplot(df['sale_cond'],order=df['sale_cond'].value_counts().index[::-1])\n",
    "plt.xticks(rotation=15)\n",
    "plt.xlabel('Sale_Cond')\n",
    "plt.ylabel('Count')\n",
    "plt.title('Sales of houses according to Sale Conditions')\n",
    "\n",
    "plt.subplot(433)\n",
    "sns.countplot(df['park_facil'],order=df['park_facil'].value_counts().index[::-1])\n",
    "plt.xticks(rotation=15)\n",
    "plt.xlabel('Parking Facility')\n",
    "plt.ylabel('Count')\n",
    "plt.title('Sale of houses according to Parking Facility')\n",
    "\n",
    "plt.subplot(434)\n",
    "sns.countplot(df['buildtype'],order=df['buildtype'].value_counts().index[::-1])\n",
    "plt.xticks(rotation=15)\n",
    "plt.xlabel('Buildtype')\n",
    "plt.ylabel('Count')\n",
    "plt.title('Sales of houses according to Buildtype')\n",
    "\n",
    "plt.subplot(435)\n",
    "sns.countplot(df['utility_avail'],order=df['utility_avail'].value_counts().index[::-1])\n",
    "plt.xticks(rotation=15)\n",
    "plt.xlabel('Utilities Available')\n",
    "plt.ylabel('Count')\n",
    "plt.title('Sales of houses according to Utilities Available')\n",
    "\n",
    "plt.subplot(436)\n",
    "sns.countplot(df['street'],order=df['street'].value_counts().index[::-1])\n",
    "plt.xticks(rotation=15)\n",
    "plt.xlabel('Street')\n",
    "plt.ylabel('Count')\n",
    "plt.title('Sales of houses according to Street')\n",
    "\n",
    "plt.subplot(437)\n",
    "sns.countplot(df['mzzone'],order=df['mzzone'].value_counts().index[::-1])\n",
    "plt.xticks(rotation=15)\n",
    "plt.xlabel('MZZONE')\n",
    "plt.ylabel('Count')\n",
    "plt.title('Sales of houses according to MZZONES')\n",
    "\n",
    "plt.tight_layout()"
   ]
  },
  {
   "cell_type": "code",
   "execution_count": 24,
   "id": "be3a997b",
   "metadata": {},
   "outputs": [],
   "source": [
    "#orders for all the barplots in ascending order\n",
    "area_order = df.groupby('area')['sales_price'].mean().reset_index().sort_values('sales_price')['area']\n",
    "sale_cond_order = df.groupby('sale_cond')['sales_price'].mean().reset_index().sort_values('sales_price')['sale_cond']\n",
    "park_facil_order = df.groupby('park_facil')['sales_price'].mean().reset_index().sort_values('sales_price')['park_facil']\n",
    "buildtype_order = df.groupby('buildtype')['sales_price'].mean().reset_index().sort_values('sales_price')['buildtype']\n",
    "utility_avail_order = df.groupby('utility_avail')['sales_price'].mean().reset_index().sort_values('sales_price')['utility_avail']\n",
    "street_order = df.groupby('street')['sales_price'].mean().reset_index().sort_values('sales_price')['street']\n",
    "mzzone_order = df.groupby('mzzone')['sales_price'].mean().reset_index().sort_values('sales_price')['mzzone']"
   ]
  },
  {
   "cell_type": "code",
   "execution_count": 25,
   "id": "cb199e24",
   "metadata": {},
   "outputs": [
    {
     "name": "stderr",
     "output_type": "stream",
     "text": [
      "C:\\Users\\Windows 11\\anaconda3\\lib\\site-packages\\seaborn\\_decorators.py:36: FutureWarning: Pass the following variables as keyword args: x, y. From version 0.12, the only valid positional argument will be `data`, and passing other arguments without an explicit keyword will result in an error or misinterpretation.\n",
      "  warnings.warn(\n",
      "C:\\Users\\Windows 11\\anaconda3\\lib\\site-packages\\seaborn\\_decorators.py:36: FutureWarning: Pass the following variables as keyword args: x, y. From version 0.12, the only valid positional argument will be `data`, and passing other arguments without an explicit keyword will result in an error or misinterpretation.\n",
      "  warnings.warn(\n",
      "C:\\Users\\Windows 11\\anaconda3\\lib\\site-packages\\seaborn\\_decorators.py:36: FutureWarning: Pass the following variables as keyword args: x, y. From version 0.12, the only valid positional argument will be `data`, and passing other arguments without an explicit keyword will result in an error or misinterpretation.\n",
      "  warnings.warn(\n",
      "C:\\Users\\Windows 11\\anaconda3\\lib\\site-packages\\seaborn\\_decorators.py:36: FutureWarning: Pass the following variables as keyword args: x, y. From version 0.12, the only valid positional argument will be `data`, and passing other arguments without an explicit keyword will result in an error or misinterpretation.\n",
      "  warnings.warn(\n",
      "C:\\Users\\Windows 11\\anaconda3\\lib\\site-packages\\seaborn\\_decorators.py:36: FutureWarning: Pass the following variables as keyword args: x, y. From version 0.12, the only valid positional argument will be `data`, and passing other arguments without an explicit keyword will result in an error or misinterpretation.\n",
      "  warnings.warn(\n",
      "C:\\Users\\Windows 11\\anaconda3\\lib\\site-packages\\seaborn\\_decorators.py:36: FutureWarning: Pass the following variables as keyword args: x, y. From version 0.12, the only valid positional argument will be `data`, and passing other arguments without an explicit keyword will result in an error or misinterpretation.\n",
      "  warnings.warn(\n",
      "C:\\Users\\Windows 11\\anaconda3\\lib\\site-packages\\seaborn\\_decorators.py:36: FutureWarning: Pass the following variables as keyword args: x, y. From version 0.12, the only valid positional argument will be `data`, and passing other arguments without an explicit keyword will result in an error or misinterpretation.\n",
      "  warnings.warn(\n"
     ]
    },
    {
     "data": {
      "image/png": "[encoded data removed]",
      "text/plain": [
       "<Figure size 2000x2500 with 7 Axes>"
      ]
     },
     "metadata": {},
     "output_type": "display_data"
    }
   ],
   "source": [
    "#for categorical columns\n",
    "plt.figure(figsize=(20,25))\n",
    "\n",
    "plt.subplot(431)\n",
    "sns.barplot(df['area'],df['sales_price'],order=area_order)\n",
    "plt.xticks(rotation=15)\n",
    "plt.xlabel('Area')\n",
    "plt.ylabel('Mean Sales Price')\n",
    "plt.title('Area vs Mean_Sales_Price')\n",
    "\n",
    "plt.subplot(432)\n",
    "sns.barplot(df['sale_cond'],df['sales_price'],order=sale_cond_order)\n",
    "plt.xticks(rotation=15)\n",
    "plt.xlabel('Sale Conditions')\n",
    "plt.ylabel('Mean Sales Price')\n",
    "plt.title('Sale_Conditions vs Mean_Sales_Price')\n",
    "\n",
    "plt.subplot(433)\n",
    "sns.barplot(df['park_facil'],df['sales_price'],order=park_facil_order)\n",
    "plt.xticks(rotation=15)\n",
    "plt.xlabel('Parking Facility')\n",
    "plt.ylabel('Mean Sales Price')\n",
    "plt.title('Parking Facility vs Mean_Sales_Price')\n",
    "\n",
    "plt.subplot(434)\n",
    "sns.barplot(df['buildtype'],df['sales_price'],order=buildtype_order)\n",
    "plt.xticks(rotation=15)\n",
    "plt.xlabel('Build-type')\n",
    "plt.ylabel('Mean Sales Price')\n",
    "plt.title('House Buildtype vs Mean_Sales_Price')\n",
    "\n",
    "plt.subplot(435)\n",
    "sns.barplot(df['utility_avail'],df['sales_price'],order=utility_avail_order)\n",
    "plt.xticks(rotation=15)\n",
    "plt.xlabel('Utilities Available')\n",
    "plt.ylabel('Mean Sales Price')\n",
    "plt.title('Utilities Available vs Mean_Sales_Price')\n",
    "\n",
    "plt.subplot(436)\n",
    "sns.barplot(df['street'],df['sales_price'],order=street_order)\n",
    "plt.xticks(rotation=15)\n",
    "plt.xlabel('Street')\n",
    "plt.ylabel('Mean Sales Price')\n",
    "plt.title('Street vs Mean_Sales_Price')\n",
    "\n",
    "plt.subplot(437)\n",
    "sns.barplot(df['mzzone'],df['sales_price'],order=mzzone_order)\n",
    "plt.xticks(rotation=15)\n",
    "plt.xlabel('MZZONE')\n",
    "plt.ylabel('Mean Sales Price')\n",
    "plt.title('MZZONs vs Mean_Sales_Price')\n",
    "\n",
    "plt.tight_layout()"
   ]
  },
  {
   "cell_type": "markdown",
   "id": "1e6f2ba7",
   "metadata": {},
   "source": [
    "# PREPROCESSING -\n",
    "## ENCODING :"
   ]
  },
  {
   "cell_type": "code",
   "execution_count": 26,
   "id": "07d8905d",
   "metadata": {},
   "outputs": [],
   "source": [
    "df['area'] = df['area'].map({'Karapakkam':0,'Adyar':1,'Chrompet':2,'Velachery':3,'KK Nagar':4,'Anna Nagar':5,'T Nagar':6})\n",
    "df['street'] = df['street'].map({'No Access':0,'Paved':1,'Gravel':2})\n",
    "df['mzzone'] = df['mzzone'].map({'A':0,'C':1,'I':2,'RH':4,'RL':5,'RM':6})\n",
    "df['park_facil'] = df['park_facil'].map({'No':0,'Yes':1})\n",
    "df = pd.get_dummies(df, columns = ['buildtype'])\n",
    "df['utility_avail'] = df['utility_avail'].map({'ELO':0,'No Sewer':1,'AllPub':2})"
   ]
  },
  {
   "cell_type": "code",
   "execution_count": 27,
   "id": "fa16f48a",
   "metadata": {
    "scrolled": true
   },
   "outputs": [
    {
     "data": {
      "text/html": [
       "<div>\n",
       "<style scoped>\n",
       "    .dataframe tbody tr th:only-of-type {\n",
       "        vertical-align: middle;\n",
       "    }\n",
       "\n",
       "    .dataframe tbody tr th {\n",
       "        vertical-align: top;\n",
       "    }\n",
       "\n",
       "    .dataframe thead th {\n",
       "        text-align: right;\n",
       "    }\n",
       "</style>\n",
       "<table border=\"1\" class=\"dataframe\">\n",
       "  <thead>\n",
       "    <tr style=\"text-align: right;\">\n",
       "      <th></th>\n",
       "      <th>area</th>\n",
       "      <th>int_sqft</th>\n",
       "      <th>date_sale</th>\n",
       "      <th>dist_mainroad</th>\n",
       "      <th>n_bedroom</th>\n",
       "      <th>n_bathroom</th>\n",
       "      <th>n_room</th>\n",
       "      <th>sale_cond</th>\n",
       "      <th>park_facil</th>\n",
       "      <th>date_build</th>\n",
       "      <th>utility_avail</th>\n",
       "      <th>street</th>\n",
       "      <th>mzzone</th>\n",
       "      <th>sales_price</th>\n",
       "      <th>age</th>\n",
       "      <th>buildtype_Commercial</th>\n",
       "      <th>buildtype_House</th>\n",
       "      <th>buildtype_Others</th>\n",
       "    </tr>\n",
       "  </thead>\n",
       "  <tbody>\n",
       "    <tr>\n",
       "      <th>0</th>\n",
       "      <td>0</td>\n",
       "      <td>1004</td>\n",
       "      <td>2011-04-05</td>\n",
       "      <td>131</td>\n",
       "      <td>1</td>\n",
       "      <td>1</td>\n",
       "      <td>3</td>\n",
       "      <td>AbNormal</td>\n",
       "      <td>1</td>\n",
       "      <td>1967-05-15</td>\n",
       "      <td>2</td>\n",
       "      <td>1</td>\n",
       "      <td>0</td>\n",
       "      <td>7600000</td>\n",
       "      <td>44</td>\n",
       "      <td>1</td>\n",
       "      <td>0</td>\n",
       "      <td>0</td>\n",
       "    </tr>\n",
       "    <tr>\n",
       "      <th>1</th>\n",
       "      <td>5</td>\n",
       "      <td>1986</td>\n",
       "      <td>2006-12-19</td>\n",
       "      <td>26</td>\n",
       "      <td>2</td>\n",
       "      <td>1</td>\n",
       "      <td>5</td>\n",
       "      <td>AbNormal</td>\n",
       "      <td>0</td>\n",
       "      <td>1995-12-22</td>\n",
       "      <td>2</td>\n",
       "      <td>2</td>\n",
       "      <td>4</td>\n",
       "      <td>21717770</td>\n",
       "      <td>11</td>\n",
       "      <td>1</td>\n",
       "      <td>0</td>\n",
       "      <td>0</td>\n",
       "    </tr>\n",
       "    <tr>\n",
       "      <th>2</th>\n",
       "      <td>1</td>\n",
       "      <td>909</td>\n",
       "      <td>2012-04-02</td>\n",
       "      <td>70</td>\n",
       "      <td>1</td>\n",
       "      <td>1</td>\n",
       "      <td>3</td>\n",
       "      <td>AbNormal</td>\n",
       "      <td>1</td>\n",
       "      <td>1992-09-02</td>\n",
       "      <td>0</td>\n",
       "      <td>2</td>\n",
       "      <td>5</td>\n",
       "      <td>13159200</td>\n",
       "      <td>20</td>\n",
       "      <td>1</td>\n",
       "      <td>0</td>\n",
       "      <td>0</td>\n",
       "    </tr>\n",
       "    <tr>\n",
       "      <th>3</th>\n",
       "      <td>3</td>\n",
       "      <td>1855</td>\n",
       "      <td>2010-03-13</td>\n",
       "      <td>14</td>\n",
       "      <td>3</td>\n",
       "      <td>2</td>\n",
       "      <td>5</td>\n",
       "      <td>Family</td>\n",
       "      <td>0</td>\n",
       "      <td>1988-03-18</td>\n",
       "      <td>1</td>\n",
       "      <td>1</td>\n",
       "      <td>2</td>\n",
       "      <td>9630290</td>\n",
       "      <td>22</td>\n",
       "      <td>0</td>\n",
       "      <td>0</td>\n",
       "      <td>1</td>\n",
       "    </tr>\n",
       "    <tr>\n",
       "      <th>4</th>\n",
       "      <td>0</td>\n",
       "      <td>1226</td>\n",
       "      <td>2009-05-10</td>\n",
       "      <td>84</td>\n",
       "      <td>1</td>\n",
       "      <td>1</td>\n",
       "      <td>3</td>\n",
       "      <td>AbNormal</td>\n",
       "      <td>1</td>\n",
       "      <td>1979-10-13</td>\n",
       "      <td>2</td>\n",
       "      <td>2</td>\n",
       "      <td>1</td>\n",
       "      <td>7406250</td>\n",
       "      <td>30</td>\n",
       "      <td>0</td>\n",
       "      <td>0</td>\n",
       "      <td>1</td>\n",
       "    </tr>\n",
       "    <tr>\n",
       "      <th>...</th>\n",
       "      <td>...</td>\n",
       "      <td>...</td>\n",
       "      <td>...</td>\n",
       "      <td>...</td>\n",
       "      <td>...</td>\n",
       "      <td>...</td>\n",
       "      <td>...</td>\n",
       "      <td>...</td>\n",
       "      <td>...</td>\n",
       "      <td>...</td>\n",
       "      <td>...</td>\n",
       "      <td>...</td>\n",
       "      <td>...</td>\n",
       "      <td>...</td>\n",
       "      <td>...</td>\n",
       "      <td>...</td>\n",
       "      <td>...</td>\n",
       "      <td>...</td>\n",
       "    </tr>\n",
       "    <tr>\n",
       "      <th>7104</th>\n",
       "      <td>0</td>\n",
       "      <td>598</td>\n",
       "      <td>2011-03-01</td>\n",
       "      <td>51</td>\n",
       "      <td>1</td>\n",
       "      <td>1</td>\n",
       "      <td>2</td>\n",
       "      <td>AdjLand</td>\n",
       "      <td>0</td>\n",
       "      <td>1962-01-15</td>\n",
       "      <td>0</td>\n",
       "      <td>0</td>\n",
       "      <td>6</td>\n",
       "      <td>5353000</td>\n",
       "      <td>49</td>\n",
       "      <td>0</td>\n",
       "      <td>0</td>\n",
       "      <td>1</td>\n",
       "    </tr>\n",
       "    <tr>\n",
       "      <th>7105</th>\n",
       "      <td>3</td>\n",
       "      <td>1897</td>\n",
       "      <td>2004-08-04</td>\n",
       "      <td>52</td>\n",
       "      <td>3</td>\n",
       "      <td>2</td>\n",
       "      <td>5</td>\n",
       "      <td>Family</td>\n",
       "      <td>1</td>\n",
       "      <td>1995-11-04</td>\n",
       "      <td>1</td>\n",
       "      <td>0</td>\n",
       "      <td>4</td>\n",
       "      <td>10818480</td>\n",
       "      <td>9</td>\n",
       "      <td>0</td>\n",
       "      <td>0</td>\n",
       "      <td>1</td>\n",
       "    </tr>\n",
       "    <tr>\n",
       "      <th>7106</th>\n",
       "      <td>3</td>\n",
       "      <td>1614</td>\n",
       "      <td>2006-08-25</td>\n",
       "      <td>152</td>\n",
       "      <td>2</td>\n",
       "      <td>1</td>\n",
       "      <td>4</td>\n",
       "      <td>Normal Sale</td>\n",
       "      <td>0</td>\n",
       "      <td>1978-01-09</td>\n",
       "      <td>1</td>\n",
       "      <td>2</td>\n",
       "      <td>2</td>\n",
       "      <td>8351410</td>\n",
       "      <td>28</td>\n",
       "      <td>0</td>\n",
       "      <td>1</td>\n",
       "      <td>0</td>\n",
       "    </tr>\n",
       "    <tr>\n",
       "      <th>7107</th>\n",
       "      <td>0</td>\n",
       "      <td>787</td>\n",
       "      <td>2009-03-08</td>\n",
       "      <td>40</td>\n",
       "      <td>1</td>\n",
       "      <td>1</td>\n",
       "      <td>2</td>\n",
       "      <td>Partial</td>\n",
       "      <td>1</td>\n",
       "      <td>1977-11-08</td>\n",
       "      <td>0</td>\n",
       "      <td>1</td>\n",
       "      <td>5</td>\n",
       "      <td>8507000</td>\n",
       "      <td>32</td>\n",
       "      <td>1</td>\n",
       "      <td>0</td>\n",
       "      <td>0</td>\n",
       "    </tr>\n",
       "    <tr>\n",
       "      <th>7108</th>\n",
       "      <td>3</td>\n",
       "      <td>1896</td>\n",
       "      <td>2005-07-13</td>\n",
       "      <td>156</td>\n",
       "      <td>3</td>\n",
       "      <td>2</td>\n",
       "      <td>5</td>\n",
       "      <td>Partial</td>\n",
       "      <td>1</td>\n",
       "      <td>1961-07-24</td>\n",
       "      <td>0</td>\n",
       "      <td>1</td>\n",
       "      <td>2</td>\n",
       "      <td>9976480</td>\n",
       "      <td>44</td>\n",
       "      <td>0</td>\n",
       "      <td>0</td>\n",
       "      <td>1</td>\n",
       "    </tr>\n",
       "  </tbody>\n",
       "</table>\n",
       "<p>7109 rows × 18 columns</p>\n",
       "</div>"
      ],
      "text/plain": [
       "      area  int_sqft  date_sale  dist_mainroad  n_bedroom  n_bathroom  n_room  \\\n",
       "0        0      1004 2011-04-05            131          1           1       3   \n",
       "1        5      1986 2006-12-19             26          2           1       5   \n",
       "2        1       909 2012-04-02             70          1           1       3   \n",
       "3        3      1855 2010-03-13             14          3           2       5   \n",
       "4        0      1226 2009-05-10             84          1           1       3   \n",
       "...    ...       ...        ...            ...        ...         ...     ...   \n",
       "7104     0       598 2011-03-01             51          1           1       2   \n",
       "7105     3      1897 2004-08-04             52          3           2       5   \n",
       "7106     3      1614 2006-08-25            152          2           1       4   \n",
       "7107     0       787 2009-03-08             40          1           1       2   \n",
       "7108     3      1896 2005-07-13            156          3           2       5   \n",
       "\n",
       "        sale_cond  park_facil date_build  utility_avail  street  mzzone  \\\n",
       "0        AbNormal           1 1967-05-15              2       1       0   \n",
       "1        AbNormal           0 1995-12-22              2       2       4   \n",
       "2        AbNormal           1 1992-09-02              0       2       5   \n",
       "3          Family           0 1988-03-18              1       1       2   \n",
       "4        AbNormal           1 1979-10-13              2       2       1   \n",
       "...           ...         ...        ...            ...     ...     ...   \n",
       "7104      AdjLand           0 1962-01-15              0       0       6   \n",
       "7105       Family           1 1995-11-04              1       0       4   \n",
       "7106  Normal Sale           0 1978-01-09              1       2       2   \n",
       "7107      Partial           1 1977-11-08              0       1       5   \n",
       "7108      Partial           1 1961-07-24              0       1       2   \n",
       "\n",
       "      sales_price  age  buildtype_Commercial  buildtype_House  \\\n",
       "0         7600000   44                     1                0   \n",
       "1        21717770   11                     1                0   \n",
       "2        13159200   20                     1                0   \n",
       "3         9630290   22                     0                0   \n",
       "4         7406250   30                     0                0   \n",
       "...           ...  ...                   ...              ...   \n",
       "7104      5353000   49                     0                0   \n",
       "7105     10818480    9                     0                0   \n",
       "7106      8351410   28                     0                1   \n",
       "7107      8507000   32                     1                0   \n",
       "7108      9976480   44                     0                0   \n",
       "\n",
       "      buildtype_Others  \n",
       "0                    0  \n",
       "1                    0  \n",
       "2                    0  \n",
       "3                    1  \n",
       "4                    1  \n",
       "...                ...  \n",
       "7104                 1  \n",
       "7105                 1  \n",
       "7106                 0  \n",
       "7107                 0  \n",
       "7108                 1  \n",
       "\n",
       "[7109 rows x 18 columns]"
      ]
     },
     "execution_count": 27,
     "metadata": {},
     "output_type": "execute_result"
    }
   ],
   "source": [
    "df"
   ]
  },
  {
   "cell_type": "code",
   "execution_count": 28,
   "id": "f30d4c8f",
   "metadata": {},
   "outputs": [
    {
     "name": "stdout",
     "output_type": "stream",
     "text": [
      "<class 'pandas.core.frame.DataFrame'>\n",
      "RangeIndex: 7109 entries, 0 to 7108\n",
      "Data columns (total 18 columns):\n",
      " #   Column                Non-Null Count  Dtype         \n",
      "---  ------                --------------  -----         \n",
      " 0   area                  7109 non-null   int64         \n",
      " 1   int_sqft              7109 non-null   int64         \n",
      " 2   date_sale             7109 non-null   datetime64[ns]\n",
      " 3   dist_mainroad         7109 non-null   int64         \n",
      " 4   n_bedroom             7109 non-null   int32         \n",
      " 5   n_bathroom            7109 non-null   int32         \n",
      " 6   n_room                7109 non-null   int64         \n",
      " 7   sale_cond             7109 non-null   object        \n",
      " 8   park_facil            7109 non-null   int64         \n",
      " 9   date_build            7109 non-null   datetime64[ns]\n",
      " 10  utility_avail         7109 non-null   int64         \n",
      " 11  street                7109 non-null   int64         \n",
      " 12  mzzone                7109 non-null   int64         \n",
      " 13  sales_price           7109 non-null   int64         \n",
      " 14  age                   7109 non-null   int64         \n",
      " 15  buildtype_Commercial  7109 non-null   uint8         \n",
      " 16  buildtype_House       7109 non-null   uint8         \n",
      " 17  buildtype_Others      7109 non-null   uint8         \n",
      "dtypes: datetime64[ns](2), int32(2), int64(10), object(1), uint8(3)\n",
      "memory usage: 798.5+ KB\n"
     ]
    }
   ],
   "source": [
    "df.info()"
   ]
  },
  {
   "cell_type": "markdown",
   "id": "c6d2d571",
   "metadata": {},
   "source": [
    "# SPLITTING :"
   ]
  },
  {
   "cell_type": "code",
   "execution_count": 29,
   "id": "f18ada9e",
   "metadata": {},
   "outputs": [],
   "source": [
    "x= df.drop(columns=['sales_price','date_sale','dist_mainroad','date_sale','date_build','sale_cond'])\n",
    "y=df['sales_price']"
   ]
  },
  {
   "cell_type": "code",
   "execution_count": 30,
   "id": "49d91e8f",
   "metadata": {},
   "outputs": [
    {
     "name": "stdout",
     "output_type": "stream",
     "text": [
      "<class 'pandas.core.frame.DataFrame'>\n",
      "RangeIndex: 7109 entries, 0 to 7108\n",
      "Data columns (total 13 columns):\n",
      " #   Column                Non-Null Count  Dtype\n",
      "---  ------                --------------  -----\n",
      " 0   area                  7109 non-null   int64\n",
      " 1   int_sqft              7109 non-null   int64\n",
      " 2   n_bedroom             7109 non-null   int32\n",
      " 3   n_bathroom            7109 non-null   int32\n",
      " 4   n_room                7109 non-null   int64\n",
      " 5   park_facil            7109 non-null   int64\n",
      " 6   utility_avail         7109 non-null   int64\n",
      " 7   street                7109 non-null   int64\n",
      " 8   mzzone                7109 non-null   int64\n",
      " 9   age                   7109 non-null   int64\n",
      " 10  buildtype_Commercial  7109 non-null   uint8\n",
      " 11  buildtype_House       7109 non-null   uint8\n",
      " 12  buildtype_Others      7109 non-null   uint8\n",
      "dtypes: int32(2), int64(8), uint8(3)\n",
      "memory usage: 520.8 KB\n"
     ]
    }
   ],
   "source": [
    "x.info()"
   ]
  },
  {
   "cell_type": "code",
   "execution_count": 31,
   "id": "0faf93b1",
   "metadata": {},
   "outputs": [],
   "source": [
    "xtrain,xtest,ytrain,ytest = train_test_split(x,y,test_size=0.2,random_state=70)"
   ]
  },
  {
   "cell_type": "markdown",
   "id": "92d89745",
   "metadata": {},
   "source": [
    "# MACHINE LEARNING MODEL SELECTION -\n",
    "## LINEAR REGRESSION :"
   ]
  },
  {
   "cell_type": "code",
   "execution_count": 33,
   "id": "c19e684e",
   "metadata": {},
   "outputs": [],
   "source": [
    "l=LinearRegression()"
   ]
  },
  {
   "cell_type": "code",
   "execution_count": 34,
   "id": "1b674d2e",
   "metadata": {},
   "outputs": [
    {
     "data": {
      "text/html": [
       "<style>#sk-container-id-1 {color: black;background-color: white;}#sk-container-id-1 pre{padding: 0;}#sk-container-id-1 div.sk-toggleable {background-color: white;}#sk-container-id-1 label.sk-toggleable__label {cursor: pointer;display: block;width: 100%;margin-bottom: 0;padding: 0.3em;box-sizing: border-box;text-align: center;}#sk-container-id-1 label.sk-toggleable__label-arrow:before {content: \"▸\";float: left;margin-right: 0.25em;color: #696969;}#sk-container-id-1 label.sk-toggleable__label-arrow:hover:before {color: black;}#sk-container-id-1 div.sk-estimator:hover label.sk-toggleable__label-arrow:before {color: black;}#sk-container-id-1 div.sk-toggleable__content {max-height: 0;max-width: 0;overflow: hidden;text-align: left;background-color: #f0f8ff;}#sk-container-id-1 div.sk-toggleable__content pre {margin: 0.2em;color: black;border-radius: 0.25em;background-color: #f0f8ff;}#sk-container-id-1 input.sk-toggleable__control:checked~div.sk-toggleable__content {max-height: 200px;max-width: 100%;overflow: auto;}#sk-container-id-1 input.sk-toggleable__control:checked~label.sk-toggleable__label-arrow:before {content: \"▾\";}#sk-container-id-1 div.sk-estimator input.sk-toggleable__control:checked~label.sk-toggleable__label {background-color: #d4ebff;}#sk-container-id-1 div.sk-label input.sk-toggleable__control:checked~label.sk-toggleable__label {background-color: #d4ebff;}#sk-container-id-1 input.sk-hidden--visually {border: 0;clip: rect(1px 1px 1px 1px);clip: rect(1px, 1px, 1px, 1px);height: 1px;margin: -1px;overflow: hidden;padding: 0;position: absolute;width: 1px;}#sk-container-id-1 div.sk-estimator {font-family: monospace;background-color: #f0f8ff;border: 1px dotted black;border-radius: 0.25em;box-sizing: border-box;margin-bottom: 0.5em;}#sk-container-id-1 div.sk-estimator:hover {background-color: #d4ebff;}#sk-container-id-1 div.sk-parallel-item::after {content: \"\";width: 100%;border-bottom: 1px solid gray;flex-grow: 1;}#sk-container-id-1 div.sk-label:hover label.sk-toggleable__label {background-color: #d4ebff;}#sk-container-id-1 div.sk-serial::before {content: \"\";position: absolute;border-left: 1px solid gray;box-sizing: border-box;top: 0;bottom: 0;left: 50%;z-index: 0;}#sk-container-id-1 div.sk-serial {display: flex;flex-direction: column;align-items: center;background-color: white;padding-right: 0.2em;padding-left: 0.2em;position: relative;}#sk-container-id-1 div.sk-item {position: relative;z-index: 1;}#sk-container-id-1 div.sk-parallel {display: flex;align-items: stretch;justify-content: center;background-color: white;position: relative;}#sk-container-id-1 div.sk-item::before, #sk-container-id-1 div.sk-parallel-item::before {content: \"\";position: absolute;border-left: 1px solid gray;box-sizing: border-box;top: 0;bottom: 0;left: 50%;z-index: -1;}#sk-container-id-1 div.sk-parallel-item {display: flex;flex-direction: column;z-index: 1;position: relative;background-color: white;}#sk-container-id-1 div.sk-parallel-item:first-child::after {align-self: flex-end;width: 50%;}#sk-container-id-1 div.sk-parallel-item:last-child::after {align-self: flex-start;width: 50%;}#sk-container-id-1 div.sk-parallel-item:only-child::after {width: 0;}#sk-container-id-1 div.sk-dashed-wrapped {border: 1px dashed gray;margin: 0 0.4em 0.5em 0.4em;box-sizing: border-box;padding-bottom: 0.4em;background-color: white;}#sk-container-id-1 div.sk-label label {font-family: monospace;font-weight: bold;display: inline-block;line-height: 1.2em;}#sk-container-id-1 div.sk-label-container {text-align: center;}#sk-container-id-1 div.sk-container {/* jupyter's `normalize.less` sets `[hidden] { display: none; }` but bootstrap.min.css set `[hidden] { display: none !important; }` so we also need the `!important` here to be able to override the default hidden behavior on the sphinx rendered scikit-learn.org. See: https://github.com/scikit-learn/scikit-learn/issues/21755 */display: inline-block !important;position: relative;}#sk-container-id-1 div.sk-text-repr-fallback {display: none;}</style><div id=\"sk-container-id-1\" class=\"sk-top-container\"><div class=\"sk-text-repr-fallback\"><pre>LinearRegression()</pre><b>In a Jupyter environment, please rerun this cell to show the HTML representation or trust the notebook. <br />On GitHub, the HTML representation is unable to render, please try loading this page with nbviewer.org.</b></div><div class=\"sk-container\" hidden><div class=\"sk-item\"><div class=\"sk-estimator sk-toggleable\"><input class=\"sk-toggleable__control sk-hidden--visually\" id=\"sk-estimator-id-1\" type=\"checkbox\" checked><label for=\"sk-estimator-id-1\" class=\"sk-toggleable__label sk-toggleable__label-arrow\">LinearRegression</label><div class=\"sk-toggleable__content\"><pre>LinearRegression()</pre></div></div></div></div></div>"
      ],
      "text/plain": [
       "LinearRegression()"
      ]
     },
     "execution_count": 34,
     "metadata": {},
     "output_type": "execute_result"
    }
   ],
   "source": [
    "l.fit(xtrain,ytrain)"
   ]
  },
  {
   "cell_type": "code",
   "execution_count": 35,
   "id": "dbc2ce7e",
   "metadata": {},
   "outputs": [],
   "source": [
    "l1=l.predict(xtest)"
   ]
  },
  {
   "cell_type": "code",
   "execution_count": 36,
   "id": "2f5ed786",
   "metadata": {},
   "outputs": [
    {
     "data": {
      "text/plain": [
       "array([ 8974364.46736187, 13851861.87193011,  6369879.18744922, ...,\n",
       "        7156139.42087005,  8376667.33919884,  8870936.08863072])"
      ]
     },
     "execution_count": 36,
     "metadata": {},
     "output_type": "execute_result"
    }
   ],
   "source": [
    "l1"
   ]
  },
  {
   "cell_type": "code",
   "execution_count": 37,
   "id": "9263eed7",
   "metadata": {},
   "outputs": [],
   "source": [
    "lr2score=r2_score(ytest,l1)"
   ]
  },
  {
   "cell_type": "code",
   "execution_count": 38,
   "id": "b3bcfa2c",
   "metadata": {},
   "outputs": [
    {
     "data": {
      "text/plain": [
       "0.9188680933629556"
      ]
     },
     "execution_count": 38,
     "metadata": {},
     "output_type": "execute_result"
    }
   ],
   "source": [
    "lr2score"
   ]
  },
  {
   "cell_type": "code",
   "execution_count": 39,
   "id": "44029cd8",
   "metadata": {},
   "outputs": [],
   "source": [
    "lcrossvalscore=cross_val_score(l,xtrain,ytrain,cv=10).mean()"
   ]
  },
  {
   "cell_type": "code",
   "execution_count": 40,
   "id": "208ba36f",
   "metadata": {},
   "outputs": [
    {
     "data": {
      "text/plain": [
       "0.9182225600099724"
      ]
     },
     "execution_count": 40,
     "metadata": {},
     "output_type": "execute_result"
    }
   ],
   "source": [
    "lcrossvalscore"
   ]
  },
  {
   "cell_type": "code",
   "execution_count": 41,
   "id": "79e48257",
   "metadata": {},
   "outputs": [
    {
     "data": {
      "text/plain": [
       "0.9188680933629556"
      ]
     },
     "execution_count": 41,
     "metadata": {},
     "output_type": "execute_result"
    }
   ],
   "source": [
    "l.score(xtest,ytest)"
   ]
  },
  {
   "cell_type": "markdown",
   "id": "d6ab291b",
   "metadata": {},
   "source": [
    "# SCALING :"
   ]
  },
  {
   "cell_type": "code",
   "execution_count": 42,
   "id": "e7ad3fa6",
   "metadata": {},
   "outputs": [],
   "source": [
    "ss=StandardScaler()\n",
    "xtrain=ss.fit_transform(xtrain)\n",
    "xtest=ss.transform(xtest)"
   ]
  },
  {
   "cell_type": "markdown",
   "id": "a472612a",
   "metadata": {},
   "source": [
    "# KNeighborsRegressor : "
   ]
  },
  {
   "cell_type": "code",
   "execution_count": 43,
   "id": "8a91ef02",
   "metadata": {},
   "outputs": [
    {
     "name": "stdout",
     "output_type": "stream",
     "text": [
      "kvalue 1 train score 0.9999998555757502 crossscore : 0.935478910733831\n",
      "kvalue 2 train score 0.9845345813877647 crossscore : 0.9475604597001525\n",
      "kvalue 3 train score 0.9779851474056956 crossscore : 0.9497122022867845\n",
      "kvalue 4 train score 0.9737726007322949 crossscore : 0.9506148908391333\n",
      "kvalue 5 train score 0.9702118917794198 crossscore : 0.9510744290956744\n",
      "kvalue 6 train score 0.9679932718413263 crossscore : 0.9506993228196283\n",
      "kvalue 7 train score 0.9660578648381433 crossscore : 0.9502138601752362\n",
      "kvalue 8 train score 0.9640037593601248 crossscore : 0.9494626176893328\n",
      "kvalue 9 train score 0.9622110109272817 crossscore : 0.949245430126512\n",
      "kvalue 10 train score 0.9608971130837285 crossscore : 0.9486329300044607\n",
      "kvalue 11 train score 0.959645772367955 crossscore : 0.9478217429407575\n",
      "kvalue 12 train score 0.9583573343022298 crossscore : 0.946826663866011\n",
      "kvalue 13 train score 0.9570446590181703 crossscore : 0.9457339031531353\n",
      "kvalue 14 train score 0.9559619754620681 crossscore : 0.9450337133987778\n",
      "kvalue 15 train score 0.9546990222063004 crossscore : 0.9442620584977967\n",
      "kvalue 16 train score 0.9534227340610008 crossscore : 0.9433753245094589\n",
      "kvalue 17 train score 0.9526163390394697 crossscore : 0.9426514165185866\n",
      "kvalue 18 train score 0.9514446955854006 crossscore : 0.9417031804561473\n",
      "kvalue 19 train score 0.9505392237625877 crossscore : 0.9409772143565384\n"
     ]
    }
   ],
   "source": [
    "kvalue=np.arange(1,20)\n",
    "kcrossvalscore=[]\n",
    "for k in kvalue:\n",
    "    knn=KNeighborsRegressor(n_neighbors=k)\n",
    "    knn.fit(xtrain,ytrain)\n",
    "    print('kvalue',k,'train score',knn.score(xtrain,ytrain),'crossscore :',cross_val_score(knn,xtrain,ytrain,cv=10).mean())\n",
    "    kcrossvalscore.append(cross_val_score(knn,xtrain,ytrain,cv=10).mean())"
   ]
  },
  {
   "cell_type": "code",
   "execution_count": 44,
   "id": "d805844e",
   "metadata": {},
   "outputs": [
    {
     "data": {
      "text/plain": [
       "0.9510744290956744"
      ]
     },
     "execution_count": 44,
     "metadata": {},
     "output_type": "execute_result"
    }
   ],
   "source": [
    "max(kcrossvalscore)"
   ]
  },
  {
   "cell_type": "markdown",
   "id": "46dc06c6",
   "metadata": {},
   "source": [
    "# IMPLEMENTING KNeighborsRegressor :"
   ]
  },
  {
   "cell_type": "code",
   "execution_count": 45,
   "id": "ea0bd11e",
   "metadata": {},
   "outputs": [
    {
     "data": {
      "text/html": [
       "<style>#sk-container-id-2 {color: black;background-color: white;}#sk-container-id-2 pre{padding: 0;}#sk-container-id-2 div.sk-toggleable {background-color: white;}#sk-container-id-2 label.sk-toggleable__label {cursor: pointer;display: block;width: 100%;margin-bottom: 0;padding: 0.3em;box-sizing: border-box;text-align: center;}#sk-container-id-2 label.sk-toggleable__label-arrow:before {content: \"▸\";float: left;margin-right: 0.25em;color: #696969;}#sk-container-id-2 label.sk-toggleable__label-arrow:hover:before {color: black;}#sk-container-id-2 div.sk-estimator:hover label.sk-toggleable__label-arrow:before {color: black;}#sk-container-id-2 div.sk-toggleable__content {max-height: 0;max-width: 0;overflow: hidden;text-align: left;background-color: #f0f8ff;}#sk-container-id-2 div.sk-toggleable__content pre {margin: 0.2em;color: black;border-radius: 0.25em;background-color: #f0f8ff;}#sk-container-id-2 input.sk-toggleable__control:checked~div.sk-toggleable__content {max-height: 200px;max-width: 100%;overflow: auto;}#sk-container-id-2 input.sk-toggleable__control:checked~label.sk-toggleable__label-arrow:before {content: \"▾\";}#sk-container-id-2 div.sk-estimator input.sk-toggleable__control:checked~label.sk-toggleable__label {background-color: #d4ebff;}#sk-container-id-2 div.sk-label input.sk-toggleable__control:checked~label.sk-toggleable__label {background-color: #d4ebff;}#sk-container-id-2 input.sk-hidden--visually {border: 0;clip: rect(1px 1px 1px 1px);clip: rect(1px, 1px, 1px, 1px);height: 1px;margin: -1px;overflow: hidden;padding: 0;position: absolute;width: 1px;}#sk-container-id-2 div.sk-estimator {font-family: monospace;background-color: #f0f8ff;border: 1px dotted black;border-radius: 0.25em;box-sizing: border-box;margin-bottom: 0.5em;}#sk-container-id-2 div.sk-estimator:hover {background-color: #d4ebff;}#sk-container-id-2 div.sk-parallel-item::after {content: \"\";width: 100%;border-bottom: 1px solid gray;flex-grow: 1;}#sk-container-id-2 div.sk-label:hover label.sk-toggleable__label {background-color: #d4ebff;}#sk-container-id-2 div.sk-serial::before {content: \"\";position: absolute;border-left: 1px solid gray;box-sizing: border-box;top: 0;bottom: 0;left: 50%;z-index: 0;}#sk-container-id-2 div.sk-serial {display: flex;flex-direction: column;align-items: center;background-color: white;padding-right: 0.2em;padding-left: 0.2em;position: relative;}#sk-container-id-2 div.sk-item {position: relative;z-index: 1;}#sk-container-id-2 div.sk-parallel {display: flex;align-items: stretch;justify-content: center;background-color: white;position: relative;}#sk-container-id-2 div.sk-item::before, #sk-container-id-2 div.sk-parallel-item::before {content: \"\";position: absolute;border-left: 1px solid gray;box-sizing: border-box;top: 0;bottom: 0;left: 50%;z-index: -1;}#sk-container-id-2 div.sk-parallel-item {display: flex;flex-direction: column;z-index: 1;position: relative;background-color: white;}#sk-container-id-2 div.sk-parallel-item:first-child::after {align-self: flex-end;width: 50%;}#sk-container-id-2 div.sk-parallel-item:last-child::after {align-self: flex-start;width: 50%;}#sk-container-id-2 div.sk-parallel-item:only-child::after {width: 0;}#sk-container-id-2 div.sk-dashed-wrapped {border: 1px dashed gray;margin: 0 0.4em 0.5em 0.4em;box-sizing: border-box;padding-bottom: 0.4em;background-color: white;}#sk-container-id-2 div.sk-label label {font-family: monospace;font-weight: bold;display: inline-block;line-height: 1.2em;}#sk-container-id-2 div.sk-label-container {text-align: center;}#sk-container-id-2 div.sk-container {/* jupyter's `normalize.less` sets `[hidden] { display: none; }` but bootstrap.min.css set `[hidden] { display: none !important; }` so we also need the `!important` here to be able to override the default hidden behavior on the sphinx rendered scikit-learn.org. See: https://github.com/scikit-learn/scikit-learn/issues/21755 */display: inline-block !important;position: relative;}#sk-container-id-2 div.sk-text-repr-fallback {display: none;}</style><div id=\"sk-container-id-2\" class=\"sk-top-container\"><div class=\"sk-text-repr-fallback\"><pre>KNeighborsRegressor()</pre><b>In a Jupyter environment, please rerun this cell to show the HTML representation or trust the notebook. <br />On GitHub, the HTML representation is unable to render, please try loading this page with nbviewer.org.</b></div><div class=\"sk-container\" hidden><div class=\"sk-item\"><div class=\"sk-estimator sk-toggleable\"><input class=\"sk-toggleable__control sk-hidden--visually\" id=\"sk-estimator-id-2\" type=\"checkbox\" checked><label for=\"sk-estimator-id-2\" class=\"sk-toggleable__label sk-toggleable__label-arrow\">KNeighborsRegressor</label><div class=\"sk-toggleable__content\"><pre>KNeighborsRegressor()</pre></div></div></div></div></div>"
      ],
      "text/plain": [
       "KNeighborsRegressor()"
      ]
     },
     "execution_count": 45,
     "metadata": {},
     "output_type": "execute_result"
    }
   ],
   "source": [
    "knn=KNeighborsRegressor(n_neighbors=5)\n",
    "knn.fit(xtrain,ytrain)"
   ]
  },
  {
   "cell_type": "code",
   "execution_count": 46,
   "id": "b36a1241",
   "metadata": {},
   "outputs": [],
   "source": [
    "knn1=knn.predict(xtest)"
   ]
  },
  {
   "cell_type": "code",
   "execution_count": 47,
   "id": "6a2817b0",
   "metadata": {},
   "outputs": [],
   "source": [
    "knnr2score=r2_score(ytest,knn1)"
   ]
  },
  {
   "cell_type": "code",
   "execution_count": 48,
   "id": "23c5395c",
   "metadata": {},
   "outputs": [
    {
     "data": {
      "text/plain": [
       "0.9515293306420143"
      ]
     },
     "execution_count": 48,
     "metadata": {},
     "output_type": "execute_result"
    }
   ],
   "source": [
    "knnr2score"
   ]
  },
  {
   "cell_type": "code",
   "execution_count": 49,
   "id": "033f73b7",
   "metadata": {},
   "outputs": [
    {
     "data": {
      "text/plain": [
       "0.9515293306420143"
      ]
     },
     "execution_count": 49,
     "metadata": {},
     "output_type": "execute_result"
    }
   ],
   "source": [
    "knn.score(xtest,ytest)"
   ]
  },
  {
   "cell_type": "code",
   "execution_count": 50,
   "id": "7deeb54c",
   "metadata": {},
   "outputs": [],
   "source": [
    "knncrossvalscore=cross_val_score(knn,xtrain,ytrain,cv=10).mean()"
   ]
  },
  {
   "cell_type": "code",
   "execution_count": 51,
   "id": "3f24b7ff",
   "metadata": {},
   "outputs": [
    {
     "data": {
      "text/plain": [
       "0.9510744290956744"
      ]
     },
     "execution_count": 51,
     "metadata": {},
     "output_type": "execute_result"
    }
   ],
   "source": [
    "knncrossvalscore"
   ]
  },
  {
   "cell_type": "markdown",
   "id": "2ffd8186",
   "metadata": {},
   "source": [
    "# DecisionTreeRegressor :"
   ]
  },
  {
   "cell_type": "code",
   "execution_count": 52,
   "id": "c4ca598a",
   "metadata": {},
   "outputs": [
    {
     "name": "stdout",
     "output_type": "stream",
     "text": [
      "dval:\"1\" for train score :\"0.36469532366282975\"crossvalscore :\"0.36338762104898076\"\n",
      "dval:\"2\" for train score :\"0.6851864361873672\"crossvalscore :\"0.6841254041470958\"\n",
      "dval:\"3\" for train score :\"0.8059138455015753\"crossvalscore :\"0.804870076081903\"\n",
      "dval:\"4\" for train score :\"0.8880433266342693\"crossvalscore :\"0.8844383679340944\"\n",
      "dval:\"5\" for train score :\"0.9229691020685638\"crossvalscore :\"0.9175201705623971\"\n",
      "dval:\"6\" for train score :\"0.9442110799931962\"crossvalscore :\"0.9378893728412517\"\n",
      "dval:\"7\" for train score :\"0.9602983589768224\"crossvalscore :\"0.9503374133733054\"\n",
      "dval:\"8\" for train score :\"0.9727459085329719\"crossvalscore :\"0.9605104758958063\"\n",
      "dval:\"9\" for train score :\"0.9823822856979512\"crossvalscore :\"0.9676534384848894\"\n",
      "dval:\"10\" for train score :\"0.989129881693097\"crossvalscore :\"0.9711529051303307\"\n",
      "dval:\"11\" for train score :\"0.9936304411778448\"crossvalscore :\"0.9730009489815631\"\n",
      "dval:\"12\" for train score :\"0.9967270110566523\"crossvalscore :\"0.9731994059170519\"\n",
      "dval:\"13\" for train score :\"0.9984853505129305\"crossvalscore :\"0.9734299933940873\"\n",
      "dval:\"14\" for train score :\"0.9993578174127122\"crossvalscore :\"0.9729657708232106\"\n",
      "dval:\"15\" for train score :\"0.9997341619194149\"crossvalscore :\"0.9732708907138437\"\n",
      "dval:\"16\" for train score :\"0.9999054682030043\"crossvalscore :\"0.9734002083961698\"\n",
      "dval:\"17\" for train score :\"0.9999742136280975\"crossvalscore :\"0.9734781653927993\"\n",
      "dval:\"18\" for train score :\"0.9999940940528415\"crossvalscore :\"0.9735999611229131\"\n",
      "dval:\"19\" for train score :\"0.9999984783610576\"crossvalscore :\"0.9733546458783098\"\n"
     ]
    }
   ],
   "source": [
    "dvalue=np.arange(1,20)\n",
    "dcrossvalscore=[]\n",
    "for m in dvalue:\n",
    "    d=DecisionTreeRegressor(max_depth=m,random_state=54)\n",
    "    d.fit(xtrain,ytrain)\n",
    "    print(f'dval:\"{m}\" for train score :\"{d.score(xtrain,ytrain)}\"crossvalscore :\"{cross_val_score(d,xtrain,ytrain,cv=10).mean()}\"')\n",
    "    dcrossvalscore.append(cross_val_score(d,xtrain,ytrain,cv=10).mean())"
   ]
  },
  {
   "cell_type": "code",
   "execution_count": 53,
   "id": "223ca150",
   "metadata": {
    "scrolled": true
   },
   "outputs": [
    {
     "data": {
      "text/plain": [
       "0.9735999611229131"
      ]
     },
     "execution_count": 53,
     "metadata": {},
     "output_type": "execute_result"
    }
   ],
   "source": [
    "max(dcrossvalscore)"
   ]
  },
  {
   "cell_type": "markdown",
   "id": "ce93ae28",
   "metadata": {},
   "source": [
    "# IMPLEMENTING DecisionTreeRegressor :"
   ]
  },
  {
   "cell_type": "code",
   "execution_count": 54,
   "id": "05d93365",
   "metadata": {},
   "outputs": [
    {
     "data": {
      "text/html": [
       "<style>#sk-container-id-3 {color: black;background-color: white;}#sk-container-id-3 pre{padding: 0;}#sk-container-id-3 div.sk-toggleable {background-color: white;}#sk-container-id-3 label.sk-toggleable__label {cursor: pointer;display: block;width: 100%;margin-bottom: 0;padding: 0.3em;box-sizing: border-box;text-align: center;}#sk-container-id-3 label.sk-toggleable__label-arrow:before {content: \"▸\";float: left;margin-right: 0.25em;color: #696969;}#sk-container-id-3 label.sk-toggleable__label-arrow:hover:before {color: black;}#sk-container-id-3 div.sk-estimator:hover label.sk-toggleable__label-arrow:before {color: black;}#sk-container-id-3 div.sk-toggleable__content {max-height: 0;max-width: 0;overflow: hidden;text-align: left;background-color: #f0f8ff;}#sk-container-id-3 div.sk-toggleable__content pre {margin: 0.2em;color: black;border-radius: 0.25em;background-color: #f0f8ff;}#sk-container-id-3 input.sk-toggleable__control:checked~div.sk-toggleable__content {max-height: 200px;max-width: 100%;overflow: auto;}#sk-container-id-3 input.sk-toggleable__control:checked~label.sk-toggleable__label-arrow:before {content: \"▾\";}#sk-container-id-3 div.sk-estimator input.sk-toggleable__control:checked~label.sk-toggleable__label {background-color: #d4ebff;}#sk-container-id-3 div.sk-label input.sk-toggleable__control:checked~label.sk-toggleable__label {background-color: #d4ebff;}#sk-container-id-3 input.sk-hidden--visually {border: 0;clip: rect(1px 1px 1px 1px);clip: rect(1px, 1px, 1px, 1px);height: 1px;margin: -1px;overflow: hidden;padding: 0;position: absolute;width: 1px;}#sk-container-id-3 div.sk-estimator {font-family: monospace;background-color: #f0f8ff;border: 1px dotted black;border-radius: 0.25em;box-sizing: border-box;margin-bottom: 0.5em;}#sk-container-id-3 div.sk-estimator:hover {background-color: #d4ebff;}#sk-container-id-3 div.sk-parallel-item::after {content: \"\";width: 100%;border-bottom: 1px solid gray;flex-grow: 1;}#sk-container-id-3 div.sk-label:hover label.sk-toggleable__label {background-color: #d4ebff;}#sk-container-id-3 div.sk-serial::before {content: \"\";position: absolute;border-left: 1px solid gray;box-sizing: border-box;top: 0;bottom: 0;left: 50%;z-index: 0;}#sk-container-id-3 div.sk-serial {display: flex;flex-direction: column;align-items: center;background-color: white;padding-right: 0.2em;padding-left: 0.2em;position: relative;}#sk-container-id-3 div.sk-item {position: relative;z-index: 1;}#sk-container-id-3 div.sk-parallel {display: flex;align-items: stretch;justify-content: center;background-color: white;position: relative;}#sk-container-id-3 div.sk-item::before, #sk-container-id-3 div.sk-parallel-item::before {content: \"\";position: absolute;border-left: 1px solid gray;box-sizing: border-box;top: 0;bottom: 0;left: 50%;z-index: -1;}#sk-container-id-3 div.sk-parallel-item {display: flex;flex-direction: column;z-index: 1;position: relative;background-color: white;}#sk-container-id-3 div.sk-parallel-item:first-child::after {align-self: flex-end;width: 50%;}#sk-container-id-3 div.sk-parallel-item:last-child::after {align-self: flex-start;width: 50%;}#sk-container-id-3 div.sk-parallel-item:only-child::after {width: 0;}#sk-container-id-3 div.sk-dashed-wrapped {border: 1px dashed gray;margin: 0 0.4em 0.5em 0.4em;box-sizing: border-box;padding-bottom: 0.4em;background-color: white;}#sk-container-id-3 div.sk-label label {font-family: monospace;font-weight: bold;display: inline-block;line-height: 1.2em;}#sk-container-id-3 div.sk-label-container {text-align: center;}#sk-container-id-3 div.sk-container {/* jupyter's `normalize.less` sets `[hidden] { display: none; }` but bootstrap.min.css set `[hidden] { display: none !important; }` so we also need the `!important` here to be able to override the default hidden behavior on the sphinx rendered scikit-learn.org. See: https://github.com/scikit-learn/scikit-learn/issues/21755 */display: inline-block !important;position: relative;}#sk-container-id-3 div.sk-text-repr-fallback {display: none;}</style><div id=\"sk-container-id-3\" class=\"sk-top-container\"><div class=\"sk-text-repr-fallback\"><pre>DecisionTreeRegressor(max_depth=18, random_state=54)</pre><b>In a Jupyter environment, please rerun this cell to show the HTML representation or trust the notebook. <br />On GitHub, the HTML representation is unable to render, please try loading this page with nbviewer.org.</b></div><div class=\"sk-container\" hidden><div class=\"sk-item\"><div class=\"sk-estimator sk-toggleable\"><input class=\"sk-toggleable__control sk-hidden--visually\" id=\"sk-estimator-id-3\" type=\"checkbox\" checked><label for=\"sk-estimator-id-3\" class=\"sk-toggleable__label sk-toggleable__label-arrow\">DecisionTreeRegressor</label><div class=\"sk-toggleable__content\"><pre>DecisionTreeRegressor(max_depth=18, random_state=54)</pre></div></div></div></div></div>"
      ],
      "text/plain": [
       "DecisionTreeRegressor(max_depth=18, random_state=54)"
      ]
     },
     "execution_count": 54,
     "metadata": {},
     "output_type": "execute_result"
    }
   ],
   "source": [
    "d=DecisionTreeRegressor(max_depth=18,random_state=54)\n",
    "d.fit(xtrain,ytrain)"
   ]
  },
  {
   "cell_type": "code",
   "execution_count": 55,
   "id": "b971385f",
   "metadata": {},
   "outputs": [],
   "source": [
    "d1=d.predict(xtest)"
   ]
  },
  {
   "cell_type": "code",
   "execution_count": 56,
   "id": "da1171a2",
   "metadata": {},
   "outputs": [],
   "source": [
    "dr2score=r2_score(ytest,d1)"
   ]
  },
  {
   "cell_type": "code",
   "execution_count": 57,
   "id": "2d2cfee4",
   "metadata": {},
   "outputs": [
    {
     "data": {
      "text/plain": [
       "0.9742364252158456"
      ]
     },
     "execution_count": 57,
     "metadata": {},
     "output_type": "execute_result"
    }
   ],
   "source": [
    "dr2score"
   ]
  },
  {
   "cell_type": "code",
   "execution_count": 58,
   "id": "355c4bab",
   "metadata": {},
   "outputs": [
    {
     "data": {
      "text/plain": [
       "0.9742364252158456"
      ]
     },
     "execution_count": 58,
     "metadata": {},
     "output_type": "execute_result"
    }
   ],
   "source": [
    "d.score(xtest,ytest)"
   ]
  },
  {
   "cell_type": "code",
   "execution_count": 59,
   "id": "76ca49df",
   "metadata": {},
   "outputs": [],
   "source": [
    "dcrossvalscore=cross_val_score(d,xtrain,ytrain,cv=10).mean()"
   ]
  },
  {
   "cell_type": "code",
   "execution_count": 60,
   "id": "746be21b",
   "metadata": {
    "scrolled": true
   },
   "outputs": [
    {
     "data": {
      "text/plain": [
       "0.9735999611229131"
      ]
     },
     "execution_count": 60,
     "metadata": {},
     "output_type": "execute_result"
    }
   ],
   "source": [
    "dcrossvalscore"
   ]
  },
  {
   "cell_type": "markdown",
   "id": "983575cf",
   "metadata": {},
   "source": [
    "# RandomForestRegressor :"
   ]
  },
  {
   "cell_type": "code",
   "execution_count": 61,
   "id": "10a5d5f9",
   "metadata": {},
   "outputs": [
    {
     "name": "stdout",
     "output_type": "stream",
     "text": [
      "rvalue 1 trainvale 0.3646923744817584 crossvalscore 0.3633587667543731\n",
      "rvalue 2 trainvale 0.6851851010369887 crossvalscore 0.6840983299196667\n",
      "rvalue 3 trainvale 0.8123843684706541 crossvalscore 0.8129998882659528\n",
      "rvalue 6 trainvale 0.9567742861125457 crossvalscore 0.9515821861916549\n",
      "rvalue 8 trainvale 0.9828287579749778 crossvalscore 0.9760736790996238\n",
      "rvalue 12 trainvale 0.9973544425661435 crossvalscore 0.9879041713320463\n",
      "rvalue 15 trainvale 0.9983663061883009 crossvalscore 0.9884050109066435\n",
      "rvalue 29 trainvale 0.9984419272794746 crossvalscore 0.9884379503223755\n",
      "rvalue 30 trainvale 0.9984419272794746 crossvalscore 0.9884379503223755\n"
     ]
    }
   ],
   "source": [
    "rvalue=np.array([1,2,3,6,8,12,15,29,30])\n",
    "rcrossval=[]\n",
    "for mm in rvalue:\n",
    "    r=RandomForestRegressor(max_depth=mm,random_state=5325)\n",
    "    r.fit(xtrain,ytrain)\n",
    "    print('rvalue',mm,'trainvale',r.score(xtrain,ytrain),'crossvalscore',cross_val_score(r,xtrain,ytrain,cv=10).mean())\n",
    "    rcrossval.append(cross_val_score(r,xtrain,ytrain,cv=10).mean())"
   ]
  },
  {
   "cell_type": "code",
   "execution_count": 62,
   "id": "301c4650",
   "metadata": {
    "scrolled": true
   },
   "outputs": [
    {
     "data": {
      "text/plain": [
       "0.9884379503223755"
      ]
     },
     "execution_count": 62,
     "metadata": {},
     "output_type": "execute_result"
    }
   ],
   "source": [
    "max(rcrossval)"
   ]
  },
  {
   "cell_type": "markdown",
   "id": "325393b7",
   "metadata": {},
   "source": [
    "# IMPLEMENTING RandomForestRegressor :"
   ]
  },
  {
   "cell_type": "code",
   "execution_count": 63,
   "id": "19fbcc56",
   "metadata": {},
   "outputs": [
    {
     "data": {
      "text/html": [
       "<style>#sk-container-id-4 {color: black;background-color: white;}#sk-container-id-4 pre{padding: 0;}#sk-container-id-4 div.sk-toggleable {background-color: white;}#sk-container-id-4 label.sk-toggleable__label {cursor: pointer;display: block;width: 100%;margin-bottom: 0;padding: 0.3em;box-sizing: border-box;text-align: center;}#sk-container-id-4 label.sk-toggleable__label-arrow:before {content: \"▸\";float: left;margin-right: 0.25em;color: #696969;}#sk-container-id-4 label.sk-toggleable__label-arrow:hover:before {color: black;}#sk-container-id-4 div.sk-estimator:hover label.sk-toggleable__label-arrow:before {color: black;}#sk-container-id-4 div.sk-toggleable__content {max-height: 0;max-width: 0;overflow: hidden;text-align: left;background-color: #f0f8ff;}#sk-container-id-4 div.sk-toggleable__content pre {margin: 0.2em;color: black;border-radius: 0.25em;background-color: #f0f8ff;}#sk-container-id-4 input.sk-toggleable__control:checked~div.sk-toggleable__content {max-height: 200px;max-width: 100%;overflow: auto;}#sk-container-id-4 input.sk-toggleable__control:checked~label.sk-toggleable__label-arrow:before {content: \"▾\";}#sk-container-id-4 div.sk-estimator input.sk-toggleable__control:checked~label.sk-toggleable__label {background-color: #d4ebff;}#sk-container-id-4 div.sk-label input.sk-toggleable__control:checked~label.sk-toggleable__label {background-color: #d4ebff;}#sk-container-id-4 input.sk-hidden--visually {border: 0;clip: rect(1px 1px 1px 1px);clip: rect(1px, 1px, 1px, 1px);height: 1px;margin: -1px;overflow: hidden;padding: 0;position: absolute;width: 1px;}#sk-container-id-4 div.sk-estimator {font-family: monospace;background-color: #f0f8ff;border: 1px dotted black;border-radius: 0.25em;box-sizing: border-box;margin-bottom: 0.5em;}#sk-container-id-4 div.sk-estimator:hover {background-color: #d4ebff;}#sk-container-id-4 div.sk-parallel-item::after {content: \"\";width: 100%;border-bottom: 1px solid gray;flex-grow: 1;}#sk-container-id-4 div.sk-label:hover label.sk-toggleable__label {background-color: #d4ebff;}#sk-container-id-4 div.sk-serial::before {content: \"\";position: absolute;border-left: 1px solid gray;box-sizing: border-box;top: 0;bottom: 0;left: 50%;z-index: 0;}#sk-container-id-4 div.sk-serial {display: flex;flex-direction: column;align-items: center;background-color: white;padding-right: 0.2em;padding-left: 0.2em;position: relative;}#sk-container-id-4 div.sk-item {position: relative;z-index: 1;}#sk-container-id-4 div.sk-parallel {display: flex;align-items: stretch;justify-content: center;background-color: white;position: relative;}#sk-container-id-4 div.sk-item::before, #sk-container-id-4 div.sk-parallel-item::before {content: \"\";position: absolute;border-left: 1px solid gray;box-sizing: border-box;top: 0;bottom: 0;left: 50%;z-index: -1;}#sk-container-id-4 div.sk-parallel-item {display: flex;flex-direction: column;z-index: 1;position: relative;background-color: white;}#sk-container-id-4 div.sk-parallel-item:first-child::after {align-self: flex-end;width: 50%;}#sk-container-id-4 div.sk-parallel-item:last-child::after {align-self: flex-start;width: 50%;}#sk-container-id-4 div.sk-parallel-item:only-child::after {width: 0;}#sk-container-id-4 div.sk-dashed-wrapped {border: 1px dashed gray;margin: 0 0.4em 0.5em 0.4em;box-sizing: border-box;padding-bottom: 0.4em;background-color: white;}#sk-container-id-4 div.sk-label label {font-family: monospace;font-weight: bold;display: inline-block;line-height: 1.2em;}#sk-container-id-4 div.sk-label-container {text-align: center;}#sk-container-id-4 div.sk-container {/* jupyter's `normalize.less` sets `[hidden] { display: none; }` but bootstrap.min.css set `[hidden] { display: none !important; }` so we also need the `!important` here to be able to override the default hidden behavior on the sphinx rendered scikit-learn.org. See: https://github.com/scikit-learn/scikit-learn/issues/21755 */display: inline-block !important;position: relative;}#sk-container-id-4 div.sk-text-repr-fallback {display: none;}</style><div id=\"sk-container-id-4\" class=\"sk-top-container\"><div class=\"sk-text-repr-fallback\"><pre>RandomForestRegressor(max_depth=30, random_state=5325)</pre><b>In a Jupyter environment, please rerun this cell to show the HTML representation or trust the notebook. <br />On GitHub, the HTML representation is unable to render, please try loading this page with nbviewer.org.</b></div><div class=\"sk-container\" hidden><div class=\"sk-item\"><div class=\"sk-estimator sk-toggleable\"><input class=\"sk-toggleable__control sk-hidden--visually\" id=\"sk-estimator-id-4\" type=\"checkbox\" checked><label for=\"sk-estimator-id-4\" class=\"sk-toggleable__label sk-toggleable__label-arrow\">RandomForestRegressor</label><div class=\"sk-toggleable__content\"><pre>RandomForestRegressor(max_depth=30, random_state=5325)</pre></div></div></div></div></div>"
      ],
      "text/plain": [
       "RandomForestRegressor(max_depth=30, random_state=5325)"
      ]
     },
     "execution_count": 63,
     "metadata": {},
     "output_type": "execute_result"
    }
   ],
   "source": [
    "r=RandomForestRegressor(max_depth=30,random_state=5325)\n",
    "r.fit(xtrain,ytrain)"
   ]
  },
  {
   "cell_type": "code",
   "execution_count": 64,
   "id": "07f5b52d",
   "metadata": {},
   "outputs": [],
   "source": [
    "r1=r.predict(xtest)"
   ]
  },
  {
   "cell_type": "code",
   "execution_count": 65,
   "id": "154a4000",
   "metadata": {},
   "outputs": [],
   "source": [
    "rr2score=r2_score(ytest,r1)"
   ]
  },
  {
   "cell_type": "code",
   "execution_count": 66,
   "id": "758ec697",
   "metadata": {},
   "outputs": [
    {
     "data": {
      "text/plain": [
       "0.9889863065982625"
      ]
     },
     "execution_count": 66,
     "metadata": {},
     "output_type": "execute_result"
    }
   ],
   "source": [
    "rr2score"
   ]
  },
  {
   "cell_type": "code",
   "execution_count": 67,
   "id": "98d1f561",
   "metadata": {},
   "outputs": [
    {
     "data": {
      "text/plain": [
       "0.9889863065982625"
      ]
     },
     "execution_count": 67,
     "metadata": {},
     "output_type": "execute_result"
    }
   ],
   "source": [
    "r.score(xtest,ytest)"
   ]
  },
  {
   "cell_type": "code",
   "execution_count": 68,
   "id": "de722110",
   "metadata": {},
   "outputs": [],
   "source": [
    "rcrossvalscore=cross_val_score(r,xtrain,ytrain,cv=10).mean()"
   ]
  },
  {
   "cell_type": "code",
   "execution_count": 69,
   "id": "f3d27bb2",
   "metadata": {
    "scrolled": true
   },
   "outputs": [
    {
     "data": {
      "text/plain": [
       "0.9884379503223755"
      ]
     },
     "execution_count": 69,
     "metadata": {},
     "output_type": "execute_result"
    }
   ],
   "source": [
    "rcrossvalscore"
   ]
  },
  {
   "cell_type": "markdown",
   "id": "b2557d95",
   "metadata": {},
   "source": [
    "# xgboost - XGBRegressor :"
   ]
  },
  {
   "cell_type": "code",
   "execution_count": 70,
   "id": "59aa3c3a",
   "metadata": {},
   "outputs": [
    {
     "name": "stdout",
     "output_type": "stream",
     "text": [
      "Requirement already satisfied: xgboost in c:\\users\\windows 11\\anaconda3\\lib\\site-packages (2.0.0)Note: you may need to restart the kernel to use updated packages.\n",
      "\n",
      "Requirement already satisfied: scipy in c:\\users\\windows 11\\anaconda3\\lib\\site-packages (from xgboost) (1.10.0)\n",
      "Requirement already satisfied: numpy in c:\\users\\windows 11\\anaconda3\\lib\\site-packages (from xgboost) (1.23.5)\n"
     ]
    }
   ],
   "source": [
    "pip install xgboost"
   ]
  },
  {
   "cell_type": "code",
   "execution_count": 71,
   "id": "e8bf001c",
   "metadata": {},
   "outputs": [],
   "source": [
    "import xgboost as xgb"
   ]
  },
  {
   "cell_type": "code",
   "execution_count": 72,
   "id": "ed54bb86",
   "metadata": {},
   "outputs": [
    {
     "name": "stdout",
     "output_type": "stream",
     "text": [
      "lrvalue: 0.01 train score: 0.8263411268169712 crossvalscore: 0.8218014168048846\n",
      "lrvalue: 0.05 train score: 0.9943316190999781 crossvalscore: 0.9906637382876926\n",
      "lrvalue: 0.09 train score: 0.9969261887566713 crossvalscore: 0.9936331909991475\n",
      "lrvalue: 0.15 train score: 0.9975982179271313 crossvalscore: 0.9939676574039418\n",
      "lrvalue: 0.26 train score: 0.9981116166720133 crossvalscore: 0.9934124165640617\n",
      "lrvalue: 0.36 train score: 0.998404031246943 crossvalscore: 0.9925768208937755\n",
      "lrvalue: 0.45 train score: 0.9986277587827126 crossvalscore: 0.9915778835306538\n",
      "lrvalue: 0.56 train score: 0.9989156265413076 crossvalscore: 0.9901967368086805\n",
      "lrvalue: 0.65 train score: 0.9988804767954506 crossvalscore: 0.9890924166179736\n",
      "lrvalue: 0.76 train score: 0.9991475386608891 crossvalscore: 0.9867000672776918\n",
      "lrvalue: 0.85 train score: 0.9991540716221026 crossvalscore: 0.9861716729359852\n",
      "lrvalue: 0.99 train score: 0.9992985677332743 crossvalscore: 0.9835575868660318\n"
     ]
    }
   ],
   "source": [
    "lrvalue=np.array([0.01,0.05,0.09,0.15,0.26,0.36,0.45,0.56,0.65,0.76,0.85,0.99])\n",
    "crossval=[]\n",
    "for lr in lrvalue:\n",
    "                 x=xgb.XGBRegressor(learning_rate=lr,n_estimators=100)\n",
    "                 x.fit(xtrain,ytrain)\n",
    "                 print('lrvalue:',lr,'train score:',x.score(xtrain,ytrain),'crossvalscore:',cross_val_score(x,xtrain,ytrain,cv=10).mean())\n",
    "                 crossval.append(cross_val_score(x,xtrain,ytrain,cv=10).mean())"
   ]
  },
  {
   "cell_type": "code",
   "execution_count": 73,
   "id": "bc413470",
   "metadata": {
    "scrolled": true
   },
   "outputs": [
    {
     "data": {
      "text/plain": [
       "0.9939676574039418"
      ]
     },
     "execution_count": 73,
     "metadata": {},
     "output_type": "execute_result"
    }
   ],
   "source": [
    "max(crossval)"
   ]
  },
  {
   "cell_type": "markdown",
   "id": "68eb6891",
   "metadata": {},
   "source": [
    "# IMPLEMENTING xgboost - XGBRegressor :"
   ]
  },
  {
   "cell_type": "code",
   "execution_count": 74,
   "id": "8b49d7e1",
   "metadata": {},
   "outputs": [
    {
     "data": {
      "text/html": [
       "<style>#sk-container-id-5 {color: black;background-color: white;}#sk-container-id-5 pre{padding: 0;}#sk-container-id-5 div.sk-toggleable {background-color: white;}#sk-container-id-5 label.sk-toggleable__label {cursor: pointer;display: block;width: 100%;margin-bottom: 0;padding: 0.3em;box-sizing: border-box;text-align: center;}#sk-container-id-5 label.sk-toggleable__label-arrow:before {content: \"▸\";float: left;margin-right: 0.25em;color: #696969;}#sk-container-id-5 label.sk-toggleable__label-arrow:hover:before {color: black;}#sk-container-id-5 div.sk-estimator:hover label.sk-toggleable__label-arrow:before {color: black;}#sk-container-id-5 div.sk-toggleable__content {max-height: 0;max-width: 0;overflow: hidden;text-align: left;background-color: #f0f8ff;}#sk-container-id-5 div.sk-toggleable__content pre {margin: 0.2em;color: black;border-radius: 0.25em;background-color: #f0f8ff;}#sk-container-id-5 input.sk-toggleable__control:checked~div.sk-toggleable__content {max-height: 200px;max-width: 100%;overflow: auto;}#sk-container-id-5 input.sk-toggleable__control:checked~label.sk-toggleable__label-arrow:before {content: \"▾\";}#sk-container-id-5 div.sk-estimator input.sk-toggleable__control:checked~label.sk-toggleable__label {background-color: #d4ebff;}#sk-container-id-5 div.sk-label input.sk-toggleable__control:checked~label.sk-toggleable__label {background-color: #d4ebff;}#sk-container-id-5 input.sk-hidden--visually {border: 0;clip: rect(1px 1px 1px 1px);clip: rect(1px, 1px, 1px, 1px);height: 1px;margin: -1px;overflow: hidden;padding: 0;position: absolute;width: 1px;}#sk-container-id-5 div.sk-estimator {font-family: monospace;background-color: #f0f8ff;border: 1px dotted black;border-radius: 0.25em;box-sizing: border-box;margin-bottom: 0.5em;}#sk-container-id-5 div.sk-estimator:hover {background-color: #d4ebff;}#sk-container-id-5 div.sk-parallel-item::after {content: \"\";width: 100%;border-bottom: 1px solid gray;flex-grow: 1;}#sk-container-id-5 div.sk-label:hover label.sk-toggleable__label {background-color: #d4ebff;}#sk-container-id-5 div.sk-serial::before {content: \"\";position: absolute;border-left: 1px solid gray;box-sizing: border-box;top: 0;bottom: 0;left: 50%;z-index: 0;}#sk-container-id-5 div.sk-serial {display: flex;flex-direction: column;align-items: center;background-color: white;padding-right: 0.2em;padding-left: 0.2em;position: relative;}#sk-container-id-5 div.sk-item {position: relative;z-index: 1;}#sk-container-id-5 div.sk-parallel {display: flex;align-items: stretch;justify-content: center;background-color: white;position: relative;}#sk-container-id-5 div.sk-item::before, #sk-container-id-5 div.sk-parallel-item::before {content: \"\";position: absolute;border-left: 1px solid gray;box-sizing: border-box;top: 0;bottom: 0;left: 50%;z-index: -1;}#sk-container-id-5 div.sk-parallel-item {display: flex;flex-direction: column;z-index: 1;position: relative;background-color: white;}#sk-container-id-5 div.sk-parallel-item:first-child::after {align-self: flex-end;width: 50%;}#sk-container-id-5 div.sk-parallel-item:last-child::after {align-self: flex-start;width: 50%;}#sk-container-id-5 div.sk-parallel-item:only-child::after {width: 0;}#sk-container-id-5 div.sk-dashed-wrapped {border: 1px dashed gray;margin: 0 0.4em 0.5em 0.4em;box-sizing: border-box;padding-bottom: 0.4em;background-color: white;}#sk-container-id-5 div.sk-label label {font-family: monospace;font-weight: bold;display: inline-block;line-height: 1.2em;}#sk-container-id-5 div.sk-label-container {text-align: center;}#sk-container-id-5 div.sk-container {/* jupyter's `normalize.less` sets `[hidden] { display: none; }` but bootstrap.min.css set `[hidden] { display: none !important; }` so we also need the `!important` here to be able to override the default hidden behavior on the sphinx rendered scikit-learn.org. See: https://github.com/scikit-learn/scikit-learn/issues/21755 */display: inline-block !important;position: relative;}#sk-container-id-5 div.sk-text-repr-fallback {display: none;}</style><div id=\"sk-container-id-5\" class=\"sk-top-container\"><div class=\"sk-text-repr-fallback\"><pre>XGBRegressor(base_score=None, booster=None, callbacks=None,\n",
       "             colsample_bylevel=None, colsample_bynode=None,\n",
       "             colsample_bytree=None, device=None, early_stopping_rounds=None,\n",
       "             enable_categorical=False, eval_metric=None, feature_types=None,\n",
       "             gamma=None, grow_policy=None, importance_type=None,\n",
       "             interaction_constraints=None, learning_rate=0.15, max_bin=None,\n",
       "             max_cat_threshold=None, max_cat_to_onehot=None,\n",
       "             max_delta_step=None, max_depth=None, max_leaves=None,\n",
       "             min_child_weight=None, missing=nan, monotone_constraints=None,\n",
       "             multi_strategy=None, n_estimators=100, n_jobs=None,\n",
       "             num_parallel_tree=None, random_state=None, ...)</pre><b>In a Jupyter environment, please rerun this cell to show the HTML representation or trust the notebook. <br />On GitHub, the HTML representation is unable to render, please try loading this page with nbviewer.org.</b></div><div class=\"sk-container\" hidden><div class=\"sk-item\"><div class=\"sk-estimator sk-toggleable\"><input class=\"sk-toggleable__control sk-hidden--visually\" id=\"sk-estimator-id-5\" type=\"checkbox\" checked><label for=\"sk-estimator-id-5\" class=\"sk-toggleable__label sk-toggleable__label-arrow\">XGBRegressor</label><div class=\"sk-toggleable__content\"><pre>XGBRegressor(base_score=None, booster=None, callbacks=None,\n",
       "             colsample_bylevel=None, colsample_bynode=None,\n",
       "             colsample_bytree=None, device=None, early_stopping_rounds=None,\n",
       "             enable_categorical=False, eval_metric=None, feature_types=None,\n",
       "             gamma=None, grow_policy=None, importance_type=None,\n",
       "             interaction_constraints=None, learning_rate=0.15, max_bin=None,\n",
       "             max_cat_threshold=None, max_cat_to_onehot=None,\n",
       "             max_delta_step=None, max_depth=None, max_leaves=None,\n",
       "             min_child_weight=None, missing=nan, monotone_constraints=None,\n",
       "             multi_strategy=None, n_estimators=100, n_jobs=None,\n",
       "             num_parallel_tree=None, random_state=None, ...)</pre></div></div></div></div></div>"
      ],
      "text/plain": [
       "XGBRegressor(base_score=None, booster=None, callbacks=None,\n",
       "             colsample_bylevel=None, colsample_bynode=None,\n",
       "             colsample_bytree=None, device=None, early_stopping_rounds=None,\n",
       "             enable_categorical=False, eval_metric=None, feature_types=None,\n",
       "             gamma=None, grow_policy=None, importance_type=None,\n",
       "             interaction_constraints=None, learning_rate=0.15, max_bin=None,\n",
       "             max_cat_threshold=None, max_cat_to_onehot=None,\n",
       "             max_delta_step=None, max_depth=None, max_leaves=None,\n",
       "             min_child_weight=None, missing=nan, monotone_constraints=None,\n",
       "             multi_strategy=None, n_estimators=100, n_jobs=None,\n",
       "             num_parallel_tree=None, random_state=None, ...)"
      ]
     },
     "execution_count": 74,
     "metadata": {},
     "output_type": "execute_result"
    }
   ],
   "source": [
    "x=xgb.XGBRegressor(learning_rate=0.15,n_estimators=100)\n",
    "x.fit(xtrain,ytrain)"
   ]
  },
  {
   "cell_type": "code",
   "execution_count": 75,
   "id": "8a3da945",
   "metadata": {},
   "outputs": [],
   "source": [
    "x1=x.predict(xtest)"
   ]
  },
  {
   "cell_type": "code",
   "execution_count": 76,
   "id": "a4d02f51",
   "metadata": {},
   "outputs": [],
   "source": [
    "xr2score=r2_score(ytest,x1)"
   ]
  },
  {
   "cell_type": "code",
   "execution_count": 77,
   "id": "714232ed",
   "metadata": {},
   "outputs": [
    {
     "data": {
      "text/plain": [
       "0.9942573695555189"
      ]
     },
     "execution_count": 77,
     "metadata": {},
     "output_type": "execute_result"
    }
   ],
   "source": [
    "xr2score"
   ]
  },
  {
   "cell_type": "code",
   "execution_count": 78,
   "id": "f42d2688",
   "metadata": {},
   "outputs": [
    {
     "data": {
      "text/plain": [
       "0.9942573695555189"
      ]
     },
     "execution_count": 78,
     "metadata": {},
     "output_type": "execute_result"
    }
   ],
   "source": [
    "x.score(xtest,ytest)"
   ]
  },
  {
   "cell_type": "code",
   "execution_count": 79,
   "id": "933de0e3",
   "metadata": {},
   "outputs": [],
   "source": [
    "xcrossvalscore=cross_val_score(x,xtrain,ytrain,cv=10).mean()"
   ]
  },
  {
   "cell_type": "code",
   "execution_count": 80,
   "id": "16c54010",
   "metadata": {},
   "outputs": [
    {
     "data": {
      "text/plain": [
       "0.9939676574039418"
      ]
     },
     "execution_count": 80,
     "metadata": {},
     "output_type": "execute_result"
    }
   ],
   "source": [
    "xcrossvalscore"
   ]
  },
  {
   "cell_type": "markdown",
   "id": "5f1cc6aa",
   "metadata": {},
   "source": [
    "# CROSS VALUE SCORE OF MACHINE LEARNING MODELS :"
   ]
  },
  {
   "cell_type": "code",
   "execution_count": 81,
   "id": "7ab54a63",
   "metadata": {
    "scrolled": false
   },
   "outputs": [
    {
     "name": "stdout",
     "output_type": "stream",
     "text": [
      "crossvalue score for linear regressor : 0.9182225600099724\n",
      "crossvalue score for knn regressor : 0.9510744290956744\n",
      "crossvalue score for Decision Tree regressor : 0.9735999611229131\n",
      "crossvalue score for Random forest regressor : 0.9884379503223755\n",
      "crossvalue score for ExtremeGradientBoosting regressor : 0.9939676574039418\n"
     ]
    }
   ],
   "source": [
    "print('crossvalue score for linear regressor :',lcrossvalscore)\n",
    "print('crossvalue score for knn regressor :',knncrossvalscore)\n",
    "print('crossvalue score for Decision Tree regressor :',dcrossvalscore)\n",
    "print('crossvalue score for Random forest regressor :',rcrossvalscore)\n",
    "print('crossvalue score for ExtremeGradientBoosting regressor :',xcrossvalscore)"
   ]
  },
  {
   "cell_type": "markdown",
   "id": "fe2cea17",
   "metadata": {},
   "source": [
    "# R2 SCORE OF MACHINE LEARNING MODELS :"
   ]
  },
  {
   "cell_type": "code",
   "execution_count": 82,
   "id": "31c41a85",
   "metadata": {},
   "outputs": [
    {
     "name": "stdout",
     "output_type": "stream",
     "text": [
      "r2_score score for linear regressor : 0.9188680933629556\n",
      "r2_score score for knn regressor : 0.9515293306420143\n",
      "r2_score score for Decision Tree regressor : 0.9742364252158456\n",
      "r2_score score for Random forest regressor : 0.9889863065982625\n",
      "r2_score score for ExtremeGradientBoosting regressor : 0.9942573695555189\n"
     ]
    }
   ],
   "source": [
    "print('r2_score score for linear regressor :',lr2score)\n",
    "print('r2_score score for knn regressor :',knnr2score)\n",
    "print('r2_score score for Decision Tree regressor :',dr2score)\n",
    "print('r2_score score for Random forest regressor :',rr2score)\n",
    "print('r2_score score for ExtremeGradientBoosting regressor :',xr2score)"
   ]
  },
  {
   "cell_type": "markdown",
   "id": "de442304",
   "metadata": {},
   "source": [
    "# The best model depending on the cross validation score is found out to be the ExtremeGradientBoosting regressor."
   ]
  },
  {
   "cell_type": "markdown",
   "id": "3d6d456f",
   "metadata": {},
   "source": [
    "# IMPORTANT FEATURES :"
   ]
  },
  {
   "cell_type": "code",
   "execution_count": 83,
   "id": "479a590e",
   "metadata": {},
   "outputs": [
    {
     "data": {
      "text/plain": [
       "array([2.3726490e-01, 1.8545095e-02, 6.0892239e-02, 2.9909979e-03,\n",
       "       1.0975190e-01, 1.2815560e-02, 8.0814131e-04, 8.8640777e-03,\n",
       "       2.0572644e-02, 1.1327618e-03, 5.1510870e-01, 1.1132689e-02,\n",
       "       1.2026492e-04], dtype=float32)"
      ]
     },
     "execution_count": 83,
     "metadata": {},
     "output_type": "execute_result"
    }
   ],
   "source": [
    "x.feature_importances_"
   ]
  },
  {
   "cell_type": "code",
   "execution_count": 84,
   "id": "298abe21",
   "metadata": {
    "scrolled": true
   },
   "outputs": [
    {
     "data": {
      "image/png": "[encoded data removed]",
      "text/plain": [
       "<Figure size 2500x2000 with 1 Axes>"
      ]
     },
     "metadata": {},
     "output_type": "display_data"
    }
   ],
   "source": [
    "sorted_idx = x.feature_importances_.argsort()\n",
    "plt.figure(figsize=(25,20))\n",
    "plt.barh(df.columns[sorted_idx], x.feature_importances_[sorted_idx])\n",
    "# plt.xlabel(\"Random Forest Feature Importance\")\n",
    "# plt.title(\"Feature Importance\")\n",
    "plt.show()"
   ]
  },
  {
   "cell_type": "markdown",
   "id": "f811912d",
   "metadata": {},
   "source": [
    "# Suggestions to Predict Chennai House Price:\n",
    "## Based on the feature importance given by Best Machine Learning Algorithm(Extreme Gradient Boosting)-Person who's looking for Chennai house price value should Focus on the features of order given below to predict the Price value of the house :\n",
    "### 1.Utility Availability\n",
    "#### 2.Area\n",
    "##### 3.No. of Bedrooms\n",
    "###### 4.Date Sold\n",
    "###### 5.Parking Facility\n",
    "###### 6.Sq.ft Area\n",
    "###### 7.No. of Bathrooms\n",
    "###### All other amenities also equally affects the house prices. "
   ]
  }
 ],
 "metadata": {
  "kernelspec": {
   "display_name": "Python 3 (ipykernel)",
   "language": "python",
   "name": "python3"
  },
  "language_info": {
   "codemirror_mode": {
    "name": "ipython",
    "version": 3
   },
   "file_extension": ".py",
   "mimetype": "text/x-python",
   "name": "python",
   "nbconvert_exporter": "python",
   "pygments_lexer": "ipython3",
   "version": "3.10.9"
  }
 },
 "nbformat": 4,
 "nbformat_minor": 5
}
